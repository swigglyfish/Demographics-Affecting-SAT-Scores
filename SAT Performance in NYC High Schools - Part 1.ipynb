{
 "cells": [
  {
   "cell_type": "markdown",
   "metadata": {},
   "source": [
    "# Introduction\n",
    "\n",
    "In Part 2 of this project, I will examine the performance of New York City high school student's on the SAT examine to determine if there are any demographic factors that might influence student performance. However, in Part 1 of this project, I will simply clean the eight datasets below before combining them into a single dataset.\n",
    "\n",
    "The SAT exam is a placement test that American universities use in order to help determine which which students to accept. The SAT has three sections, each of which is worth a maximum of 800 points. A high school's average SAT score is also often used as an indicator of the quality of the school's curriculum.\n",
    "\n",
    "In my analysis, I will be combining seven datasets into a single, cleaned pandas dataframe. All eight datasets pertain to schools in New York City.\n",
    "- [ap_2010.csv](https://data.cityofnewyork.us/api/views/itfs-ms3e/files/cfb55d3e-e18d-4d78-982d-5f892d72f28c?download=true&filename=AP%20Results.xlsx) = shows Advanced Placement (AP) exam results (which are used to help universities find qualified applicants) for each high school.\n",
    "- [class_size.csv](https://data.cityofnewyork.us/api/views/urz7-pzb3/files/0fd9def3-28bd-484a-8977-7f30d142ac9f?download=true&filename=2010-2011\\_Class\\_Size\\_School\\_Level\\_Detail.xlsx) dataset contains information on the size of the classes within a school.\n",
    "- [demographics.csv](https://data.cityofnewyork.us/api/views/ihfw-zy9j/files/a15740cc-a4ae-4478-88a9-4ecc677b6949?download=true&filename=School%20Demographics%20and%20Accountability%20Snapshot%202006-2012.xlsx) = contains demographic information for each school.\n",
    "- [graduation.csv](https://data.cityofnewyork.us/api/views/vh2h-md7a/files/a06dc3fd-d93a-4050-9e3f-077c0c430b10?download=true&filename=Graduation%20Outcomes.xlsx) = contains the percentage of students who graduated, as well as other graduation outcome information.\n",
    "- [hs_directory.csv](https://data.cityofnewyork.us/api/views/n3p6-zve2/files/416d8b2c-7270-436d-84d9-f76a28982416?download=true&filename=2014-2015\\_DOE\\_High\\_Shool\\_Directory.xlsx) = contains attendance information for each school.\n",
    "- [sat_results.csv](https://data.cityofnewyork.us/api/views/f9bf-2cp4/files/7e5d7800-8b8d-458d-a4d7-0d9b30ca53e5?download=true&filename=SAT%20Results.xlsx) = contains SAT scores for each high school.\n",
    "- [survey_all.txt](https://data.cityofnewyork.us/api/views/mnz3-dyi8/files/aa68d821-4dbb-4eb2-9448-3d8cbbad5044?download=true&filename=Survey%20Data%20Dictionary.xls) = contains surveys of parents, teachers, and students at each school.\n",
    "- [survey_d75.txt](https://data.cityofnewyork.us/api/views/mnz3-dyi8/files/aa68d821-4dbb-4eb2-9448-3d8cbbad5044?download=true&filename=Survey%20Data%20Dictionary.xls) = contains surveys of parents, teachers, and students at each school in NYC district 75.\n",
    "\n",
    "The SAT exam is a placement test that American universities use in order to help determine which which students to accept. The SAT has three sections, each of which is worth a maximum of 800 points. A high school's average SAT score is also often used as an indicator of the quality of the school's curriculum."
   ]
  },
  {
   "cell_type": "markdown",
   "metadata": {},
   "source": [
    "# First Look at the Datasets\n",
    "\n",
    "Since I am planing on combining all eight datasets, I will have to spend a significant amount of time cleaning the data prior to analyzing it. First, I will import the appropriate libraries we will be using throughout our analysis."
   ]
  },
  {
   "cell_type": "code",
   "execution_count": 1,
   "metadata": {},
   "outputs": [],
   "source": [
    "import pandas as pd\n",
    "import numpy as np\n",
    "import matplotlib.pyplot as plt\n",
    "import re"
   ]
  },
  {
   "cell_type": "markdown",
   "metadata": {},
   "source": [
    "## Reading in the Intial Datasets\n",
    "\n",
    "In order to make referencing the various datasets easier, I will combine all six of the csv files into a single dictionary (called data) and combined the two surveys into a single txt file."
   ]
  },
  {
   "cell_type": "code",
   "execution_count": 2,
   "metadata": {},
   "outputs": [
    {
     "data": {
      "text/plain": [
       "dict_keys(['ap_2010', 'class_size', 'demographics', 'graduation', 'hs_directory', 'sat_results'])"
      ]
     },
     "execution_count": 2,
     "metadata": {},
     "output_type": "execute_result"
    }
   ],
   "source": [
    "data_files = [\n",
    "    \"ap_2010.csv\",\n",
    "    \"class_size.csv\",\n",
    "    \"demographics.csv\",\n",
    "    \"graduation.csv\",\n",
    "    \"hs_directory.csv\",\n",
    "    \"sat_results.csv\"\n",
    "]\n",
    "\n",
    "data = {}\n",
    "\n",
    "# Adds all files in data_files list (located in the schools folder) to the data dictionary\n",
    "for f in data_files:\n",
    "    d = pd.read_csv(\"schools/{0}\".format(f))\n",
    "    data[f.replace(\".csv\", \"\")] = d # Removes the .csv from the name and makes file name a key in the dictionary\n",
    "\n",
    "data.keys()"
   ]
  },
  {
   "cell_type": "markdown",
   "metadata": {},
   "source": [
    "Now that we have combined all of the csv files into a single, easily-accessible dictionary, let's concatonate the txt files (all_survey and d75_survey) into a single file."
   ]
  },
  {
   "cell_type": "code",
   "execution_count": 3,
   "metadata": {
    "scrolled": true
   },
   "outputs": [
    {
     "name": "stderr",
     "output_type": "stream",
     "text": [
      "/opt/anaconda3/lib/python3.7/site-packages/ipykernel_launcher.py:5: FutureWarning: Sorting because non-concatenation axis is not aligned. A future version\n",
      "of pandas will change to not sort by default.\n",
      "\n",
      "To accept the future behavior, pass 'sort=False'.\n",
      "\n",
      "To retain the current behavior and silence the warning, pass 'sort=True'.\n",
      "\n",
      "  \"\"\"\n"
     ]
    },
    {
     "data": {
      "text/plain": [
       "Index(['N_p', 'N_s', 'N_t', 'aca_p_11', 'aca_s_11', 'aca_t_11', 'aca_tot_11',\n",
       "       'bn', 'com_p_11', 'com_s_11',\n",
       "       ...\n",
       "       't_q8c_1', 't_q8c_2', 't_q8c_3', 't_q8c_4', 't_q9', 't_q9_1', 't_q9_2',\n",
       "       't_q9_3', 't_q9_4', 't_q9_5'],\n",
       "      dtype='object', length=2773)"
      ]
     },
     "execution_count": 3,
     "metadata": {},
     "output_type": "execute_result"
    }
   ],
   "source": [
    "# Read in the all_survey and d75_survey data and concatonates them into a single dataset\n",
    "all_survey = pd.read_csv(\"schools/survey_all.txt\", delimiter=\"\\t\", encoding=\"windows-1252\")\n",
    "d75_survey = pd.read_csv(\"schools/survey_d75.txt\", delimiter=\"\\t\", encoding=\"windows-1252\")\n",
    "\n",
    "survey = pd.concat([all_survey, d75_survey], axis=0)\n",
    "\n",
    "survey.columns"
   ]
  },
  {
   "cell_type": "markdown",
   "metadata": {},
   "source": [
    "Now that I can easily reference the various datasets, I will remove various columns from my dataset so that it only contains those that will be useful for my analysis."
   ]
  },
  {
   "cell_type": "markdown",
   "metadata": {},
   "source": [
    "## Limiting the Number of Columns in the Survey Dataset\n",
    "\n",
    "The survey dataset has 2773 columns, which is obviously much more than will be useful for my analysis. According to the GitHub website where I originally downloaded the two survey datasets, the most important columns in this database are the columnsin the survey_fields list below. Thus, I can get rid of all other columns in the survey_fields dataset and then add the survey information to the data dictionary."
   ]
  },
  {
   "cell_type": "code",
   "execution_count": 4,
   "metadata": {},
   "outputs": [
    {
     "data": {
      "text/plain": [
       "Index(['DBN', 'rr_s', 'rr_t', 'rr_p', 'N_s', 'N_t', 'N_p', 'saf_p_11',\n",
       "       'com_p_11', 'eng_p_11', 'aca_p_11', 'saf_t_11', 'com_t_11', 'eng_t_11',\n",
       "       'aca_t_11', 'saf_s_11', 'com_s_11', 'eng_s_11', 'aca_s_11',\n",
       "       'saf_tot_11', 'com_tot_11', 'eng_tot_11', 'aca_tot_11'],\n",
       "      dtype='object')"
      ]
     },
     "execution_count": 4,
     "metadata": {},
     "output_type": "execute_result"
    }
   ],
   "source": [
    "# List of useful columns\n",
    "survey_fields = [\n",
    "                \"DBN\", \"rr_s\", \"rr_t\", \"rr_p\",\n",
    "                \"N_s\", \"N_t\", \"N_p\", \"saf_p_11\",\n",
    "                \"com_p_11\", \"eng_p_11\", \"aca_p_11\",\n",
    "                \"saf_t_11\", \"com_t_11\", \"eng_t_11\",\n",
    "                \"aca_t_11\", \"saf_s_11\", \"com_s_11\",\n",
    "                \"eng_s_11\", \"aca_s_11\", \"saf_tot_11\",\n",
    "                \"com_tot_11\", \"eng_tot_11\", \"aca_tot_11\"\n",
    "                ]\n",
    "\n",
    "survey = survey.rename(columns={\"dbn\": \"DBN\"}) # capitalizes the \"dbn\" column name\n",
    "survey = survey.loc[:, survey_fields] # drops columns from the survey dataset that aren't in useful columns list\n",
    "data[\"survey\"] = survey # saves new survey dataset to the data dictionary\n",
    "data[\"survey\"].columns"
   ]
  },
  {
   "cell_type": "markdown",
   "metadata": {},
   "source": [
    "## Fixing DBN Columns\n",
    "\n",
    "I will need to edit the DBN columns in two of the data datasets via the following steps:\n",
    "- hs_directory = DBN column needs to be capitalized\n",
    "- class_size = DBN column needs to be created using the CSD and SCHOOL CODE columns"
   ]
  },
  {
   "cell_type": "code",
   "execution_count": 5,
   "metadata": {},
   "outputs": [],
   "source": [
    "data[\"hs_directory\"] = data[\"hs_directory\"].rename(columns={\"dbn\":\"DBN\"}) # capitalizes \"dbn\" column name\n"
   ]
  },
  {
   "cell_type": "markdown",
   "metadata": {},
   "source": [
    "Next, I will create a DBN column in the class_size directory that is similar to the one in the hs_directory. As seen below, the DBN column appears to be a combination of the CSD and SCHOOL CODE columns, so I will take a look at what the DBN column is supposed to look like (by looking at it in the hs_directory) and then look at the CSD and SCHOOL CODE columns in class_size."
   ]
  },
  {
   "cell_type": "code",
   "execution_count": 6,
   "metadata": {},
   "outputs": [
    {
     "data": {
      "text/plain": [
       "29Q498    1\n",
       "30Q445    1\n",
       "15K463    1\n",
       "28Q690    1\n",
       "14K449    1\n",
       "Name: DBN, dtype: int64"
      ]
     },
     "execution_count": 6,
     "metadata": {},
     "output_type": "execute_result"
    }
   ],
   "source": [
    "data[\"hs_directory\"][\"DBN\"].value_counts().head()"
   ]
  },
  {
   "cell_type": "code",
   "execution_count": 7,
   "metadata": {},
   "outputs": [
    {
     "data": {
      "text/plain": [
       "2     1985\n",
       "10    1568\n",
       "9     1268\n",
       "31    1212\n",
       "11    1175\n",
       "Name: CSD, dtype: int64"
      ]
     },
     "execution_count": 7,
     "metadata": {},
     "output_type": "execute_result"
    }
   ],
   "source": [
    "data[\"class_size\"][\"CSD\"].value_counts().head(5)"
   ]
  },
  {
   "cell_type": "code",
   "execution_count": 8,
   "metadata": {},
   "outputs": [
    {
     "data": {
      "text/plain": [
       "K429    57\n",
       "X505    56\n",
       "X517    56\n",
       "K448    52\n",
       "K690    52\n",
       "Name: SCHOOL CODE, dtype: int64"
      ]
     },
     "execution_count": 8,
     "metadata": {},
     "output_type": "execute_result"
    }
   ],
   "source": [
    "data[\"class_size\"][\"SCHOOL CODE\"].value_counts().head(5)"
   ]
  },
  {
   "cell_type": "markdown",
   "metadata": {},
   "source": [
    "The DBN column is basically the CSD column (which represents each district) followed by the SCHOOL CODE column (which represents each school). Therefore, I should be able to combine the two together to make a DBN column in class_size.\n",
    "\n",
    "Note that the districts in the CSD column are either one or two-digit numbers, obviously dependant on the numbers' size. However, all of the DBN's are six digit (the last four being the school code), implying that all one-digit districts are padded by a zero. To make all of the values in my new DBN column in the class_size dataset six digits, I will create a simple function that pads all one-digit numbers with a zero to make them two-digit numbers."
   ]
  },
  {
   "cell_type": "code",
   "execution_count": 9,
   "metadata": {},
   "outputs": [],
   "source": [
    "def pad_csd(num):\n",
    "    string_representation = str(num)\n",
    "    if len(string_representation) > 1:\n",
    "        return string_representation\n",
    "    else:\n",
    "        return \"0\" + string_representation"
   ]
  },
  {
   "cell_type": "code",
   "execution_count": 10,
   "metadata": {},
   "outputs": [
    {
     "data": {
      "text/plain": [
       "02    1985\n",
       "10    1568\n",
       "09    1268\n",
       "31    1212\n",
       "11    1175\n",
       "Name: CSD, dtype: int64"
      ]
     },
     "execution_count": 10,
     "metadata": {},
     "output_type": "execute_result"
    }
   ],
   "source": [
    "data[\"class_size\"][\"CSD\"] = data[\"class_size\"][\"CSD\"].apply(pad_csd)\n",
    "data[\"class_size\"][\"CSD\"].value_counts().head()"
   ]
  },
  {
   "cell_type": "markdown",
   "metadata": {},
   "source": [
    "Next, I will combined the CSD column values to the SCHOOL CODE column values to create a new DBN column in the class_size dataset."
   ]
  },
  {
   "cell_type": "code",
   "execution_count": 11,
   "metadata": {},
   "outputs": [
    {
     "data": {
      "text/plain": [
       "15K429    57\n",
       "09X517    56\n",
       "09X505    56\n",
       "21K690    52\n",
       "15K448    52\n",
       "Name: DBN, dtype: int64"
      ]
     },
     "execution_count": 11,
     "metadata": {},
     "output_type": "execute_result"
    }
   ],
   "source": [
    "data[\"class_size\"][\"DBN\"] = data[\"class_size\"][\"CSD\"] + data[\"class_size\"][\"SCHOOL CODE\"]\n",
    "data[\"class_size\"][\"DBN\"].value_counts().head(5)"
   ]
  },
  {
   "cell_type": "markdown",
   "metadata": {},
   "source": [
    "Now that the DBN columns have been fixed for both datasets, I will start working on preparing the data so that it can eventually be merged."
   ]
  },
  {
   "cell_type": "markdown",
   "metadata": {},
   "source": [
    "# Preparing the Data for Combination\n",
    "\n",
    "In this section, I will make a series of changes to the dataset that will make it easier to analyze. First, I will create some new columns that contain useful information to my analysis:\n",
    "- SAT Score = the sum of the three categorical SAT scores (Math, CR, Writing)\n",
    "- Lon, Lat = show the longitude and latitude of the school (useful for mapping later)\n",
    "\n",
    "Afterwards, I will remove unnecessary information from a few of the datasets, which will make the datasets easier to combine as they will eventually all contain roughly the same number of data entries. The datasets I will modify include:\n",
    "- Class Size = reduce the dataset to a subset containing only high school programs, general ed programs, and reducing the dataset by finding the mean of all DBN's per school\n",
    "- Demographics = I will select only information from the most recent year, which is the 2011-2012 school year\n",
    "- Graduation = will select only students that graduated in 2006, which is the most recent year\n",
    "\n",
    "After these steps have been completed, we can combine all of the datasets in the dictionary into a single dataset."
   ]
  },
  {
   "cell_type": "markdown",
   "metadata": {},
   "source": [
    "## Creating New Columns\n",
    "\n",
    "First, I will take a look at the three categorical SAT scores in my dataset."
   ]
  },
  {
   "cell_type": "code",
   "execution_count": 12,
   "metadata": {},
   "outputs": [
    {
     "data": {
      "text/html": [
       "<div>\n",
       "<style scoped>\n",
       "    .dataframe tbody tr th:only-of-type {\n",
       "        vertical-align: middle;\n",
       "    }\n",
       "\n",
       "    .dataframe tbody tr th {\n",
       "        vertical-align: top;\n",
       "    }\n",
       "\n",
       "    .dataframe thead th {\n",
       "        text-align: right;\n",
       "    }\n",
       "</style>\n",
       "<table border=\"1\" class=\"dataframe\">\n",
       "  <thead>\n",
       "    <tr style=\"text-align: right;\">\n",
       "      <th></th>\n",
       "      <th>SAT Math Avg. Score</th>\n",
       "      <th>SAT Critical Reading Avg. Score</th>\n",
       "      <th>SAT Writing Avg. Score</th>\n",
       "    </tr>\n",
       "  </thead>\n",
       "  <tbody>\n",
       "    <tr>\n",
       "      <td>0</td>\n",
       "      <td>404</td>\n",
       "      <td>355</td>\n",
       "      <td>363</td>\n",
       "    </tr>\n",
       "    <tr>\n",
       "      <td>1</td>\n",
       "      <td>423</td>\n",
       "      <td>383</td>\n",
       "      <td>366</td>\n",
       "    </tr>\n",
       "    <tr>\n",
       "      <td>2</td>\n",
       "      <td>402</td>\n",
       "      <td>377</td>\n",
       "      <td>370</td>\n",
       "    </tr>\n",
       "  </tbody>\n",
       "</table>\n",
       "</div>"
      ],
      "text/plain": [
       "  SAT Math Avg. Score SAT Critical Reading Avg. Score SAT Writing Avg. Score\n",
       "0                 404                             355                    363\n",
       "1                 423                             383                    366\n",
       "2                 402                             377                    370"
      ]
     },
     "execution_count": 12,
     "metadata": {},
     "output_type": "execute_result"
    }
   ],
   "source": [
    "individual_scores = [\"SAT Math Avg. Score\", \"SAT Critical Reading Avg. Score\",\"SAT Writing Avg. Score\"]\n",
    "data['sat_results'][individual_scores].head(3)"
   ]
  },
  {
   "cell_type": "markdown",
   "metadata": {},
   "source": [
    "I will use a for loop to add each of the categorical SAT scores together in order to find the total SAT score."
   ]
  },
  {
   "cell_type": "code",
   "execution_count": 13,
   "metadata": {},
   "outputs": [
    {
     "data": {
      "text/plain": [
       "0    1122.0\n",
       "1    1172.0\n",
       "2    1149.0\n",
       "3    1174.0\n",
       "4    1207.0\n",
       "Name: sat_score, dtype: float64"
      ]
     },
     "execution_count": 13,
     "metadata": {},
     "output_type": "execute_result"
    }
   ],
   "source": [
    "data['sat_results']['sat_score'] = 0\n",
    "\n",
    "for score in individual_scores:\n",
    "    data[\"sat_results\"][score] = pd.to_numeric(data[\"sat_results\"][score], errors=\"coerce\")\n",
    "    data[\"sat_results\"][\"sat_score\"] += data[\"sat_results\"][score]\n",
    "\n",
    "data[\"sat_results\"][\"sat_score\"].head()"
   ]
  },
  {
   "cell_type": "markdown",
   "metadata": {},
   "source": [
    "Next, I will find the latitude and longitude values by extracting them from the Location 1 column located within the hs_directory. Finding these coordiates will be useful for creating some of the maps I will design later. I will take a look at how the Location 1 column is formulated so that I have a better idea on how to extract the appropriate values from it."
   ]
  },
  {
   "cell_type": "code",
   "execution_count": 14,
   "metadata": {},
   "outputs": [
    {
     "data": {
      "text/plain": [
       "0    883 Classon Avenue\\nBrooklyn, NY 11225\\n(40.67...\n",
       "1    1110 Boston Road\\nBronx, NY 10456\\n(40.8276026...\n",
       "2    1501 Jerome Avenue\\nBronx, NY 10452\\n(40.84241...\n",
       "Name: Location 1, dtype: object"
      ]
     },
     "execution_count": 14,
     "metadata": {},
     "output_type": "execute_result"
    }
   ],
   "source": [
    "data[\"hs_directory\"][\"Location 1\"].head(3)"
   ]
  },
  {
   "cell_type": "markdown",
   "metadata": {},
   "source": [
    "There are a pair of coordinates at the end of each data entry within the Location 1 column. I will use the re.findall function to find this pair of coordinates, which will be within a pair of parentheses."
   ]
  },
  {
   "cell_type": "code",
   "execution_count": 15,
   "metadata": {},
   "outputs": [
    {
     "data": {
      "text/plain": [
       "['(40.67029890700047, -73.96164787599963)']"
      ]
     },
     "execution_count": 15,
     "metadata": {},
     "output_type": "execute_result"
    }
   ],
   "source": [
    "re.findall(\"\\(.+\\)\", data[\"hs_directory\"][\"Location 1\"].iloc[0])"
   ]
  },
  {
   "cell_type": "markdown",
   "metadata": {},
   "source": [
    "Now that I have figured out how to extract the latitude and longitude from the Location 1, I will create a function that will select either the latitude or longitude from the Location 1 column so that I can create both a longitude and latitude column in the hs_directory dataset. Note that the lat_or_lon function rounds the latitudes and longitudes to the nearest ten thousandth's place, which is the precision most GPS systems use to denote a building (around 11 meters)."
   ]
  },
  {
   "cell_type": "code",
   "execution_count": 16,
   "metadata": {},
   "outputs": [],
   "source": [
    "def lat_or_long(string, coord=\"lon\"): # coord can be set to lon or lat, depending on which is needed (default=lon)\n",
    "    coordinates = re.findall(\"\\(.+\\)\", string)[0] # creates string with coordinates in format '(56.56, 56.56)'\n",
    "    coordinates = coordinates.split(\", \") # splits the two coordinates based on the comma separator\n",
    "    \n",
    "    # returns latitude or longitude w/o parenthesis and rounds to four digits (reasonable accuracy for GPS)\n",
    "    if coord == \"lat\":\n",
    "        return round(float(coordinates[0].replace(\"(\", \"\")), 4)\n",
    "    else:\n",
    "        return round(float(coordinates[1].replace(\")\", \"\")), 4)"
   ]
  },
  {
   "cell_type": "code",
   "execution_count": 17,
   "metadata": {},
   "outputs": [
    {
     "data": {
      "text/html": [
       "<div>\n",
       "<style scoped>\n",
       "    .dataframe tbody tr th:only-of-type {\n",
       "        vertical-align: middle;\n",
       "    }\n",
       "\n",
       "    .dataframe tbody tr th {\n",
       "        vertical-align: top;\n",
       "    }\n",
       "\n",
       "    .dataframe thead th {\n",
       "        text-align: right;\n",
       "    }\n",
       "</style>\n",
       "<table border=\"1\" class=\"dataframe\">\n",
       "  <thead>\n",
       "    <tr style=\"text-align: right;\">\n",
       "      <th></th>\n",
       "      <th>lat</th>\n",
       "      <th>lon</th>\n",
       "    </tr>\n",
       "  </thead>\n",
       "  <tbody>\n",
       "    <tr>\n",
       "      <td>0</td>\n",
       "      <td>40.6703</td>\n",
       "      <td>-73.9616</td>\n",
       "    </tr>\n",
       "    <tr>\n",
       "      <td>1</td>\n",
       "      <td>40.8276</td>\n",
       "      <td>-73.9045</td>\n",
       "    </tr>\n",
       "    <tr>\n",
       "      <td>2</td>\n",
       "      <td>40.8424</td>\n",
       "      <td>-73.9162</td>\n",
       "    </tr>\n",
       "  </tbody>\n",
       "</table>\n",
       "</div>"
      ],
      "text/plain": [
       "       lat      lon\n",
       "0  40.6703 -73.9616\n",
       "1  40.8276 -73.9045\n",
       "2  40.8424 -73.9162"
      ]
     },
     "execution_count": 17,
     "metadata": {},
     "output_type": "execute_result"
    }
   ],
   "source": [
    "data[\"hs_directory\"][\"lat\"] = data[\"hs_directory\"][\"Location 1\"].apply(lat_or_long, args=([\"lat\"]))\n",
    "data[\"hs_directory\"][\"lon\"] = data[\"hs_directory\"][\"Location 1\"].apply(lat_or_long)\n",
    "\n",
    "data[\"hs_directory\"][\"lat\"] = pd.to_numeric(data[\"hs_directory\"][\"lat\"])\n",
    "data[\"hs_directory\"][\"lon\"] = pd.to_numeric(data[\"hs_directory\"][\"lon\"])\n",
    "\n",
    "data[\"hs_directory\"][[\"lat\", \"lon\"]].head(3)"
   ]
  },
  {
   "cell_type": "markdown",
   "metadata": {},
   "source": [
    "In the next section, I will begin reducing various datasets into smaller subsets in order to make them easier to combine."
   ]
  },
  {
   "cell_type": "markdown",
   "metadata": {},
   "source": [
    "## Selecting Subsets of the Datasets\n",
    "\n",
    "The first step in this section will be to reduce the class_size dataset to a subset that contains only high school programs and general ed programs. Additionally, I will find the mean of all classes within each school, thus significantly reducing the number of data entries in the dataset."
   ]
  },
  {
   "cell_type": "code",
   "execution_count": 18,
   "metadata": {},
   "outputs": [
    {
     "data": {
      "text/plain": [
       "(27611, 17)"
      ]
     },
     "execution_count": 18,
     "metadata": {},
     "output_type": "execute_result"
    }
   ],
   "source": [
    "class_size_before = data[\"class_size\"].shape\n",
    "class_size_before"
   ]
  },
  {
   "cell_type": "markdown",
   "metadata": {},
   "source": [
    "There are over 27,000 rows in the class_size dataset, so I will look at the columns of the class_size dataset to get a good idea on how to reduce the number of entries in the dataset."
   ]
  },
  {
   "cell_type": "code",
   "execution_count": 19,
   "metadata": {},
   "outputs": [
    {
     "data": {
      "text/html": [
       "<div>\n",
       "<style scoped>\n",
       "    .dataframe tbody tr th:only-of-type {\n",
       "        vertical-align: middle;\n",
       "    }\n",
       "\n",
       "    .dataframe tbody tr th {\n",
       "        vertical-align: top;\n",
       "    }\n",
       "\n",
       "    .dataframe thead th {\n",
       "        text-align: right;\n",
       "    }\n",
       "</style>\n",
       "<table border=\"1\" class=\"dataframe\">\n",
       "  <thead>\n",
       "    <tr style=\"text-align: right;\">\n",
       "      <th></th>\n",
       "      <th>CSD</th>\n",
       "      <th>BOROUGH</th>\n",
       "      <th>SCHOOL CODE</th>\n",
       "      <th>SCHOOL NAME</th>\n",
       "      <th>GRADE</th>\n",
       "      <th>PROGRAM TYPE</th>\n",
       "      <th>CORE SUBJECT (MS CORE and 9-12 ONLY)</th>\n",
       "      <th>CORE COURSE (MS CORE and 9-12 ONLY)</th>\n",
       "      <th>SERVICE CATEGORY(K-9* ONLY)</th>\n",
       "      <th>NUMBER OF STUDENTS / SEATS FILLED</th>\n",
       "      <th>NUMBER OF SECTIONS</th>\n",
       "      <th>AVERAGE CLASS SIZE</th>\n",
       "      <th>SIZE OF SMALLEST CLASS</th>\n",
       "      <th>SIZE OF LARGEST CLASS</th>\n",
       "      <th>DATA SOURCE</th>\n",
       "      <th>SCHOOLWIDE PUPIL-TEACHER RATIO</th>\n",
       "      <th>DBN</th>\n",
       "    </tr>\n",
       "  </thead>\n",
       "  <tbody>\n",
       "    <tr>\n",
       "      <td>0</td>\n",
       "      <td>01</td>\n",
       "      <td>M</td>\n",
       "      <td>M015</td>\n",
       "      <td>P.S. 015 Roberto Clemente</td>\n",
       "      <td>0K</td>\n",
       "      <td>GEN ED</td>\n",
       "      <td>-</td>\n",
       "      <td>-</td>\n",
       "      <td>-</td>\n",
       "      <td>19.0</td>\n",
       "      <td>1.0</td>\n",
       "      <td>19.0</td>\n",
       "      <td>19.0</td>\n",
       "      <td>19.0</td>\n",
       "      <td>ATS</td>\n",
       "      <td>NaN</td>\n",
       "      <td>01M015</td>\n",
       "    </tr>\n",
       "    <tr>\n",
       "      <td>1</td>\n",
       "      <td>01</td>\n",
       "      <td>M</td>\n",
       "      <td>M015</td>\n",
       "      <td>P.S. 015 Roberto Clemente</td>\n",
       "      <td>0K</td>\n",
       "      <td>CTT</td>\n",
       "      <td>-</td>\n",
       "      <td>-</td>\n",
       "      <td>-</td>\n",
       "      <td>21.0</td>\n",
       "      <td>1.0</td>\n",
       "      <td>21.0</td>\n",
       "      <td>21.0</td>\n",
       "      <td>21.0</td>\n",
       "      <td>ATS</td>\n",
       "      <td>NaN</td>\n",
       "      <td>01M015</td>\n",
       "    </tr>\n",
       "    <tr>\n",
       "      <td>2</td>\n",
       "      <td>01</td>\n",
       "      <td>M</td>\n",
       "      <td>M015</td>\n",
       "      <td>P.S. 015 Roberto Clemente</td>\n",
       "      <td>01</td>\n",
       "      <td>GEN ED</td>\n",
       "      <td>-</td>\n",
       "      <td>-</td>\n",
       "      <td>-</td>\n",
       "      <td>17.0</td>\n",
       "      <td>1.0</td>\n",
       "      <td>17.0</td>\n",
       "      <td>17.0</td>\n",
       "      <td>17.0</td>\n",
       "      <td>ATS</td>\n",
       "      <td>NaN</td>\n",
       "      <td>01M015</td>\n",
       "    </tr>\n",
       "  </tbody>\n",
       "</table>\n",
       "</div>"
      ],
      "text/plain": [
       "  CSD BOROUGH SCHOOL CODE                SCHOOL NAME GRADE  PROGRAM TYPE  \\\n",
       "0  01       M        M015  P.S. 015 Roberto Clemente     0K       GEN ED   \n",
       "1  01       M        M015  P.S. 015 Roberto Clemente     0K          CTT   \n",
       "2  01       M        M015  P.S. 015 Roberto Clemente     01       GEN ED   \n",
       "\n",
       "  CORE SUBJECT (MS CORE and 9-12 ONLY) CORE COURSE (MS CORE and 9-12 ONLY)  \\\n",
       "0                                    -                                   -   \n",
       "1                                    -                                   -   \n",
       "2                                    -                                   -   \n",
       "\n",
       "  SERVICE CATEGORY(K-9* ONLY)  NUMBER OF STUDENTS / SEATS FILLED  \\\n",
       "0                           -                               19.0   \n",
       "1                           -                               21.0   \n",
       "2                           -                               17.0   \n",
       "\n",
       "   NUMBER OF SECTIONS  AVERAGE CLASS SIZE  SIZE OF SMALLEST CLASS  \\\n",
       "0                 1.0                19.0                    19.0   \n",
       "1                 1.0                21.0                    21.0   \n",
       "2                 1.0                17.0                    17.0   \n",
       "\n",
       "   SIZE OF LARGEST CLASS DATA SOURCE  SCHOOLWIDE PUPIL-TEACHER RATIO     DBN  \n",
       "0                   19.0         ATS                             NaN  01M015  \n",
       "1                   21.0         ATS                             NaN  01M015  \n",
       "2                   17.0         ATS                             NaN  01M015  "
      ]
     },
     "execution_count": 19,
     "metadata": {},
     "output_type": "execute_result"
    }
   ],
   "source": [
    "data[\"class_size\"].head(3)"
   ]
  },
  {
   "cell_type": "markdown",
   "metadata": {},
   "source": [
    "The best columns to use to simplify the dataset are the GRADE and PROGRAM TYPE columns. Since I'm analyzing SAT scores, it only makes sense to analyze high school programs, so the GRADE column should indicate 9-12. Similarly, I should select whatever PROGRAM TYPE indicates the typical high school student, without looking at any special high school programs."
   ]
  },
  {
   "cell_type": "code",
   "execution_count": 20,
   "metadata": {},
   "outputs": [
    {
     "data": {
      "text/plain": [
       "09-12      10644\n",
       "MS Core     4762\n",
       "0K-09       1384\n",
       "0K          1237\n",
       "01          1185\n",
       "02          1167\n",
       "03          1143\n",
       "04          1140\n",
       "05          1086\n",
       "06           846\n",
       "07           778\n",
       "08           735\n",
       "09            20\n",
       "Name: GRADE , dtype: int64"
      ]
     },
     "execution_count": 20,
     "metadata": {},
     "output_type": "execute_result"
    }
   ],
   "source": [
    "data[\"class_size\"][\"GRADE \"].value_counts()"
   ]
  },
  {
   "cell_type": "code",
   "execution_count": 21,
   "metadata": {},
   "outputs": [
    {
     "data": {
      "text/plain": [
       "GEN ED     14545\n",
       "CTT         7460\n",
       "SPEC ED     3653\n",
       "G&T          469\n",
       "Name: PROGRAM TYPE, dtype: int64"
      ]
     },
     "execution_count": 21,
     "metadata": {},
     "output_type": "execute_result"
    }
   ],
   "source": [
    "data[\"class_size\"][\"PROGRAM TYPE\"].value_counts()"
   ]
  },
  {
   "cell_type": "markdown",
   "metadata": {},
   "source": [
    "I will only select values of GRADE that equal \"9-12\" and only values of PROGRAM TYPE that equal \"GEN ED\". This should limit the number of data entries from 27K to around 6.5K since \"9-12\" consists of around half the values in GRADE and \"GEN ED\" consists of around half the values in PROGRAM TYPE."
   ]
  },
  {
   "cell_type": "code",
   "execution_count": 22,
   "metadata": {},
   "outputs": [
    {
     "data": {
      "text/html": [
       "<div>\n",
       "<style scoped>\n",
       "    .dataframe tbody tr th:only-of-type {\n",
       "        vertical-align: middle;\n",
       "    }\n",
       "\n",
       "    .dataframe tbody tr th {\n",
       "        vertical-align: top;\n",
       "    }\n",
       "\n",
       "    .dataframe thead th {\n",
       "        text-align: right;\n",
       "    }\n",
       "</style>\n",
       "<table border=\"1\" class=\"dataframe\">\n",
       "  <thead>\n",
       "    <tr style=\"text-align: right;\">\n",
       "      <th></th>\n",
       "      <th>CSD</th>\n",
       "      <th>BOROUGH</th>\n",
       "      <th>SCHOOL CODE</th>\n",
       "      <th>SCHOOL NAME</th>\n",
       "      <th>GRADE</th>\n",
       "      <th>PROGRAM TYPE</th>\n",
       "      <th>CORE SUBJECT (MS CORE and 9-12 ONLY)</th>\n",
       "      <th>CORE COURSE (MS CORE and 9-12 ONLY)</th>\n",
       "      <th>SERVICE CATEGORY(K-9* ONLY)</th>\n",
       "      <th>NUMBER OF STUDENTS / SEATS FILLED</th>\n",
       "      <th>NUMBER OF SECTIONS</th>\n",
       "      <th>AVERAGE CLASS SIZE</th>\n",
       "      <th>SIZE OF SMALLEST CLASS</th>\n",
       "      <th>SIZE OF LARGEST CLASS</th>\n",
       "      <th>DATA SOURCE</th>\n",
       "      <th>SCHOOLWIDE PUPIL-TEACHER RATIO</th>\n",
       "      <th>DBN</th>\n",
       "    </tr>\n",
       "  </thead>\n",
       "  <tbody>\n",
       "    <tr>\n",
       "      <td>225</td>\n",
       "      <td>01</td>\n",
       "      <td>M</td>\n",
       "      <td>M292</td>\n",
       "      <td>Henry Street School for International Studies</td>\n",
       "      <td>09-12</td>\n",
       "      <td>GEN ED</td>\n",
       "      <td>ENGLISH</td>\n",
       "      <td>English 9</td>\n",
       "      <td>-</td>\n",
       "      <td>63.0</td>\n",
       "      <td>3.0</td>\n",
       "      <td>21.0</td>\n",
       "      <td>19.0</td>\n",
       "      <td>25.0</td>\n",
       "      <td>STARS</td>\n",
       "      <td>NaN</td>\n",
       "      <td>01M292</td>\n",
       "    </tr>\n",
       "    <tr>\n",
       "      <td>226</td>\n",
       "      <td>01</td>\n",
       "      <td>M</td>\n",
       "      <td>M292</td>\n",
       "      <td>Henry Street School for International Studies</td>\n",
       "      <td>09-12</td>\n",
       "      <td>GEN ED</td>\n",
       "      <td>ENGLISH</td>\n",
       "      <td>English 10</td>\n",
       "      <td>-</td>\n",
       "      <td>79.0</td>\n",
       "      <td>3.0</td>\n",
       "      <td>26.3</td>\n",
       "      <td>24.0</td>\n",
       "      <td>31.0</td>\n",
       "      <td>STARS</td>\n",
       "      <td>NaN</td>\n",
       "      <td>01M292</td>\n",
       "    </tr>\n",
       "    <tr>\n",
       "      <td>227</td>\n",
       "      <td>01</td>\n",
       "      <td>M</td>\n",
       "      <td>M292</td>\n",
       "      <td>Henry Street School for International Studies</td>\n",
       "      <td>09-12</td>\n",
       "      <td>GEN ED</td>\n",
       "      <td>ENGLISH</td>\n",
       "      <td>English 11</td>\n",
       "      <td>-</td>\n",
       "      <td>38.0</td>\n",
       "      <td>2.0</td>\n",
       "      <td>19.0</td>\n",
       "      <td>16.0</td>\n",
       "      <td>22.0</td>\n",
       "      <td>STARS</td>\n",
       "      <td>NaN</td>\n",
       "      <td>01M292</td>\n",
       "    </tr>\n",
       "  </tbody>\n",
       "</table>\n",
       "</div>"
      ],
      "text/plain": [
       "    CSD BOROUGH SCHOOL CODE                                    SCHOOL NAME  \\\n",
       "225  01       M        M292  Henry Street School for International Studies   \n",
       "226  01       M        M292  Henry Street School for International Studies   \n",
       "227  01       M        M292  Henry Street School for International Studies   \n",
       "\n",
       "    GRADE  PROGRAM TYPE CORE SUBJECT (MS CORE and 9-12 ONLY)  \\\n",
       "225  09-12       GEN ED                              ENGLISH   \n",
       "226  09-12       GEN ED                              ENGLISH   \n",
       "227  09-12       GEN ED                              ENGLISH   \n",
       "\n",
       "    CORE COURSE (MS CORE and 9-12 ONLY) SERVICE CATEGORY(K-9* ONLY)  \\\n",
       "225                           English 9                           -   \n",
       "226                          English 10                           -   \n",
       "227                          English 11                           -   \n",
       "\n",
       "     NUMBER OF STUDENTS / SEATS FILLED  NUMBER OF SECTIONS  \\\n",
       "225                               63.0                 3.0   \n",
       "226                               79.0                 3.0   \n",
       "227                               38.0                 2.0   \n",
       "\n",
       "     AVERAGE CLASS SIZE  SIZE OF SMALLEST CLASS  SIZE OF LARGEST CLASS  \\\n",
       "225                21.0                    19.0                   25.0   \n",
       "226                26.3                    24.0                   31.0   \n",
       "227                19.0                    16.0                   22.0   \n",
       "\n",
       "    DATA SOURCE  SCHOOLWIDE PUPIL-TEACHER RATIO     DBN  \n",
       "225       STARS                             NaN  01M292  \n",
       "226       STARS                             NaN  01M292  \n",
       "227       STARS                             NaN  01M292  "
      ]
     },
     "execution_count": 22,
     "metadata": {},
     "output_type": "execute_result"
    }
   ],
   "source": [
    "class_size = data[\"class_size\"]\n",
    "class_size = class_size[class_size[\"GRADE \"] == \"09-12\"]\n",
    "class_size = class_size[class_size[\"PROGRAM TYPE\"] == \"GEN ED\"]\n",
    "\n",
    "class_size.head(3)"
   ]
  },
  {
   "cell_type": "code",
   "execution_count": 23,
   "metadata": {},
   "outputs": [
    {
     "data": {
      "text/plain": [
       "(6513, 17)"
      ]
     },
     "execution_count": 23,
     "metadata": {},
     "output_type": "execute_result"
    }
   ],
   "source": [
    "class_size.shape"
   ]
  },
  {
   "cell_type": "markdown",
   "metadata": {},
   "source": [
    "The number of rows in the class_size dataset decreased from over 27000 to around 6500, which is less than a quarter of its initial value. Next, I will examine how many unique \"DBN\" values there are (which indcate individual schools) so that I can find the mean values (number of students, average class size, etc.) for each school."
   ]
  },
  {
   "cell_type": "code",
   "execution_count": 24,
   "metadata": {},
   "outputs": [
    {
     "data": {
      "text/plain": [
       "09X505    21\n",
       "20K505    21\n",
       "24Q485    20\n",
       "21K525    20\n",
       "30Q445    20\n",
       "          ..\n",
       "26Q067     1\n",
       "27Q183     1\n",
       "09X303     1\n",
       "30Q230     1\n",
       "04M050     1\n",
       "Name: DBN, Length: 583, dtype: int64"
      ]
     },
     "execution_count": 24,
     "metadata": {},
     "output_type": "execute_result"
    }
   ],
   "source": [
    "class_size[\"DBN\"].value_counts()"
   ]
  },
  {
   "cell_type": "markdown",
   "metadata": {},
   "source": [
    "There are 583 unique high schools, so I next I will calculate the average for all values in the class_size dataset based on its DBN. Since the new dataset should only one value per DBN, the it should consist of 583 data entries."
   ]
  },
  {
   "cell_type": "code",
   "execution_count": 25,
   "metadata": {},
   "outputs": [
    {
     "data": {
      "text/html": [
       "<div>\n",
       "<style scoped>\n",
       "    .dataframe tbody tr th:only-of-type {\n",
       "        vertical-align: middle;\n",
       "    }\n",
       "\n",
       "    .dataframe tbody tr th {\n",
       "        vertical-align: top;\n",
       "    }\n",
       "\n",
       "    .dataframe thead th {\n",
       "        text-align: right;\n",
       "    }\n",
       "</style>\n",
       "<table border=\"1\" class=\"dataframe\">\n",
       "  <thead>\n",
       "    <tr style=\"text-align: right;\">\n",
       "      <th></th>\n",
       "      <th>DBN</th>\n",
       "      <th>NUMBER OF STUDENTS / SEATS FILLED</th>\n",
       "      <th>NUMBER OF SECTIONS</th>\n",
       "      <th>AVERAGE CLASS SIZE</th>\n",
       "      <th>SIZE OF SMALLEST CLASS</th>\n",
       "      <th>SIZE OF LARGEST CLASS</th>\n",
       "      <th>SCHOOLWIDE PUPIL-TEACHER RATIO</th>\n",
       "    </tr>\n",
       "  </thead>\n",
       "  <tbody>\n",
       "    <tr>\n",
       "      <td>0</td>\n",
       "      <td>01M292</td>\n",
       "      <td>88.0</td>\n",
       "      <td>4.0</td>\n",
       "      <td>22.564286</td>\n",
       "      <td>18.5</td>\n",
       "      <td>26.571429</td>\n",
       "      <td>NaN</td>\n",
       "    </tr>\n",
       "    <tr>\n",
       "      <td>1</td>\n",
       "      <td>01M332</td>\n",
       "      <td>46.0</td>\n",
       "      <td>2.0</td>\n",
       "      <td>22.000000</td>\n",
       "      <td>21.0</td>\n",
       "      <td>23.500000</td>\n",
       "      <td>NaN</td>\n",
       "    </tr>\n",
       "    <tr>\n",
       "      <td>2</td>\n",
       "      <td>01M378</td>\n",
       "      <td>33.0</td>\n",
       "      <td>1.0</td>\n",
       "      <td>33.000000</td>\n",
       "      <td>33.0</td>\n",
       "      <td>33.000000</td>\n",
       "      <td>NaN</td>\n",
       "    </tr>\n",
       "  </tbody>\n",
       "</table>\n",
       "</div>"
      ],
      "text/plain": [
       "      DBN  NUMBER OF STUDENTS / SEATS FILLED  NUMBER OF SECTIONS  \\\n",
       "0  01M292                               88.0                 4.0   \n",
       "1  01M332                               46.0                 2.0   \n",
       "2  01M378                               33.0                 1.0   \n",
       "\n",
       "   AVERAGE CLASS SIZE  SIZE OF SMALLEST CLASS  SIZE OF LARGEST CLASS  \\\n",
       "0           22.564286                    18.5              26.571429   \n",
       "1           22.000000                    21.0              23.500000   \n",
       "2           33.000000                    33.0              33.000000   \n",
       "\n",
       "   SCHOOLWIDE PUPIL-TEACHER RATIO  \n",
       "0                             NaN  \n",
       "1                             NaN  \n",
       "2                             NaN  "
      ]
     },
     "execution_count": 25,
     "metadata": {},
     "output_type": "execute_result"
    }
   ],
   "source": [
    "class_size = class_size.groupby(\"DBN\").agg(np.mean)\n",
    "class_size.reset_index(inplace=True)\n",
    "\n",
    "data[\"class_size\"] = class_size\n",
    "data[\"class_size\"].head(3)"
   ]
  },
  {
   "cell_type": "code",
   "execution_count": 26,
   "metadata": {},
   "outputs": [
    {
     "data": {
      "text/plain": [
       "(583, 7)"
      ]
     },
     "execution_count": 26,
     "metadata": {},
     "output_type": "execute_result"
    }
   ],
   "source": [
    "data[\"class_size\"].shape"
   ]
  },
  {
   "cell_type": "markdown",
   "metadata": {},
   "source": [
    "As expected, the number of rows in the dataset equals the number of unique DBN's (high schools), so there are now only 583 rows in the dataset. Next, I will look at the demographics dataset in order to find a reasonable method of reducing the number of data entries."
   ]
  },
  {
   "cell_type": "code",
   "execution_count": 27,
   "metadata": {},
   "outputs": [
    {
     "data": {
      "text/html": [
       "<div>\n",
       "<style scoped>\n",
       "    .dataframe tbody tr th:only-of-type {\n",
       "        vertical-align: middle;\n",
       "    }\n",
       "\n",
       "    .dataframe tbody tr th {\n",
       "        vertical-align: top;\n",
       "    }\n",
       "\n",
       "    .dataframe thead th {\n",
       "        text-align: right;\n",
       "    }\n",
       "</style>\n",
       "<table border=\"1\" class=\"dataframe\">\n",
       "  <thead>\n",
       "    <tr style=\"text-align: right;\">\n",
       "      <th></th>\n",
       "      <th>DBN</th>\n",
       "      <th>Name</th>\n",
       "      <th>schoolyear</th>\n",
       "      <th>fl_percent</th>\n",
       "      <th>frl_percent</th>\n",
       "      <th>total_enrollment</th>\n",
       "      <th>prek</th>\n",
       "      <th>k</th>\n",
       "      <th>grade1</th>\n",
       "      <th>grade2</th>\n",
       "      <th>...</th>\n",
       "      <th>black_num</th>\n",
       "      <th>black_per</th>\n",
       "      <th>hispanic_num</th>\n",
       "      <th>hispanic_per</th>\n",
       "      <th>white_num</th>\n",
       "      <th>white_per</th>\n",
       "      <th>male_num</th>\n",
       "      <th>male_per</th>\n",
       "      <th>female_num</th>\n",
       "      <th>female_per</th>\n",
       "    </tr>\n",
       "  </thead>\n",
       "  <tbody>\n",
       "    <tr>\n",
       "      <td>0</td>\n",
       "      <td>01M015</td>\n",
       "      <td>P.S. 015 ROBERTO CLEMENTE</td>\n",
       "      <td>20052006</td>\n",
       "      <td>89.4</td>\n",
       "      <td>NaN</td>\n",
       "      <td>281</td>\n",
       "      <td>15</td>\n",
       "      <td>36</td>\n",
       "      <td>40</td>\n",
       "      <td>33</td>\n",
       "      <td>...</td>\n",
       "      <td>74</td>\n",
       "      <td>26.3</td>\n",
       "      <td>189</td>\n",
       "      <td>67.3</td>\n",
       "      <td>5</td>\n",
       "      <td>1.8</td>\n",
       "      <td>158.0</td>\n",
       "      <td>56.2</td>\n",
       "      <td>123.0</td>\n",
       "      <td>43.8</td>\n",
       "    </tr>\n",
       "    <tr>\n",
       "      <td>1</td>\n",
       "      <td>01M015</td>\n",
       "      <td>P.S. 015 ROBERTO CLEMENTE</td>\n",
       "      <td>20062007</td>\n",
       "      <td>89.4</td>\n",
       "      <td>NaN</td>\n",
       "      <td>243</td>\n",
       "      <td>15</td>\n",
       "      <td>29</td>\n",
       "      <td>39</td>\n",
       "      <td>38</td>\n",
       "      <td>...</td>\n",
       "      <td>68</td>\n",
       "      <td>28.0</td>\n",
       "      <td>153</td>\n",
       "      <td>63.0</td>\n",
       "      <td>4</td>\n",
       "      <td>1.6</td>\n",
       "      <td>140.0</td>\n",
       "      <td>57.6</td>\n",
       "      <td>103.0</td>\n",
       "      <td>42.4</td>\n",
       "    </tr>\n",
       "    <tr>\n",
       "      <td>2</td>\n",
       "      <td>01M015</td>\n",
       "      <td>P.S. 015 ROBERTO CLEMENTE</td>\n",
       "      <td>20072008</td>\n",
       "      <td>89.4</td>\n",
       "      <td>NaN</td>\n",
       "      <td>261</td>\n",
       "      <td>18</td>\n",
       "      <td>43</td>\n",
       "      <td>39</td>\n",
       "      <td>36</td>\n",
       "      <td>...</td>\n",
       "      <td>77</td>\n",
       "      <td>29.5</td>\n",
       "      <td>157</td>\n",
       "      <td>60.2</td>\n",
       "      <td>7</td>\n",
       "      <td>2.7</td>\n",
       "      <td>143.0</td>\n",
       "      <td>54.8</td>\n",
       "      <td>118.0</td>\n",
       "      <td>45.2</td>\n",
       "    </tr>\n",
       "  </tbody>\n",
       "</table>\n",
       "<p>3 rows × 38 columns</p>\n",
       "</div>"
      ],
      "text/plain": [
       "      DBN                       Name  schoolyear fl_percent  frl_percent  \\\n",
       "0  01M015  P.S. 015 ROBERTO CLEMENTE    20052006       89.4          NaN   \n",
       "1  01M015  P.S. 015 ROBERTO CLEMENTE    20062007       89.4          NaN   \n",
       "2  01M015  P.S. 015 ROBERTO CLEMENTE    20072008       89.4          NaN   \n",
       "\n",
       "   total_enrollment prek   k grade1 grade2  ... black_num black_per  \\\n",
       "0               281   15  36     40     33  ...        74      26.3   \n",
       "1               243   15  29     39     38  ...        68      28.0   \n",
       "2               261   18  43     39     36  ...        77      29.5   \n",
       "\n",
       "  hispanic_num hispanic_per white_num white_per male_num male_per female_num  \\\n",
       "0          189         67.3         5       1.8    158.0     56.2      123.0   \n",
       "1          153         63.0         4       1.6    140.0     57.6      103.0   \n",
       "2          157         60.2         7       2.7    143.0     54.8      118.0   \n",
       "\n",
       "  female_per  \n",
       "0       43.8  \n",
       "1       42.4  \n",
       "2       45.2  \n",
       "\n",
       "[3 rows x 38 columns]"
      ]
     },
     "execution_count": 27,
     "metadata": {},
     "output_type": "execute_result"
    }
   ],
   "source": [
    "demographics_before = data[\"demographics\"].shape\n",
    "data[\"demographics\"].head(3)"
   ]
  },
  {
   "cell_type": "markdown",
   "metadata": {},
   "source": [
    "Looking at the schoolyear column, there appears to be a data entry for every academic year that data was collected. To confirm this is the case, I will look at the value counts for the schoolyear column."
   ]
  },
  {
   "cell_type": "code",
   "execution_count": 28,
   "metadata": {},
   "outputs": [
    {
     "data": {
      "text/plain": [
       "20112012    1509\n",
       "20102011    1498\n",
       "20092010    1475\n",
       "20082009    1441\n",
       "20072008    1410\n",
       "20062007    1386\n",
       "20052006    1356\n",
       "Name: schoolyear, dtype: int64"
      ]
     },
     "execution_count": 28,
     "metadata": {},
     "output_type": "execute_result"
    }
   ],
   "source": [
    "data[\"demographics\"][\"schoolyear\"].value_counts()"
   ]
  },
  {
   "cell_type": "markdown",
   "metadata": {},
   "source": [
    "As expected, every academic year from 2005-2006 to 2011-2012 has around 1350-1500 values (the difference between the years is likely due to the opening/closing of schools). For my analysis, I will select only the most recent set of data entries, meaning those collected during the 2011-2012 academic year. Note that the academic year is stored as an integer (ex. 2011-2012 is stored as the integer 20112012)."
   ]
  },
  {
   "cell_type": "code",
   "execution_count": 29,
   "metadata": {},
   "outputs": [
    {
     "data": {
      "text/html": [
       "<div>\n",
       "<style scoped>\n",
       "    .dataframe tbody tr th:only-of-type {\n",
       "        vertical-align: middle;\n",
       "    }\n",
       "\n",
       "    .dataframe tbody tr th {\n",
       "        vertical-align: top;\n",
       "    }\n",
       "\n",
       "    .dataframe thead th {\n",
       "        text-align: right;\n",
       "    }\n",
       "</style>\n",
       "<table border=\"1\" class=\"dataframe\">\n",
       "  <thead>\n",
       "    <tr style=\"text-align: right;\">\n",
       "      <th></th>\n",
       "      <th>DBN</th>\n",
       "      <th>Name</th>\n",
       "      <th>schoolyear</th>\n",
       "      <th>fl_percent</th>\n",
       "      <th>frl_percent</th>\n",
       "      <th>total_enrollment</th>\n",
       "      <th>prek</th>\n",
       "      <th>k</th>\n",
       "      <th>grade1</th>\n",
       "      <th>grade2</th>\n",
       "      <th>...</th>\n",
       "      <th>black_num</th>\n",
       "      <th>black_per</th>\n",
       "      <th>hispanic_num</th>\n",
       "      <th>hispanic_per</th>\n",
       "      <th>white_num</th>\n",
       "      <th>white_per</th>\n",
       "      <th>male_num</th>\n",
       "      <th>male_per</th>\n",
       "      <th>female_num</th>\n",
       "      <th>female_per</th>\n",
       "    </tr>\n",
       "  </thead>\n",
       "  <tbody>\n",
       "    <tr>\n",
       "      <td>6</td>\n",
       "      <td>01M015</td>\n",
       "      <td>P.S. 015 ROBERTO CLEMENTE</td>\n",
       "      <td>20112012</td>\n",
       "      <td>NaN</td>\n",
       "      <td>89.4</td>\n",
       "      <td>189</td>\n",
       "      <td>13</td>\n",
       "      <td>31</td>\n",
       "      <td>35</td>\n",
       "      <td>28</td>\n",
       "      <td>...</td>\n",
       "      <td>63</td>\n",
       "      <td>33.3</td>\n",
       "      <td>109</td>\n",
       "      <td>57.7</td>\n",
       "      <td>4</td>\n",
       "      <td>2.1</td>\n",
       "      <td>97.0</td>\n",
       "      <td>51.3</td>\n",
       "      <td>92.0</td>\n",
       "      <td>48.7</td>\n",
       "    </tr>\n",
       "    <tr>\n",
       "      <td>13</td>\n",
       "      <td>01M019</td>\n",
       "      <td>P.S. 019 ASHER LEVY</td>\n",
       "      <td>20112012</td>\n",
       "      <td>NaN</td>\n",
       "      <td>61.5</td>\n",
       "      <td>328</td>\n",
       "      <td>32</td>\n",
       "      <td>46</td>\n",
       "      <td>52</td>\n",
       "      <td>54</td>\n",
       "      <td>...</td>\n",
       "      <td>81</td>\n",
       "      <td>24.7</td>\n",
       "      <td>158</td>\n",
       "      <td>48.2</td>\n",
       "      <td>28</td>\n",
       "      <td>8.5</td>\n",
       "      <td>147.0</td>\n",
       "      <td>44.8</td>\n",
       "      <td>181.0</td>\n",
       "      <td>55.2</td>\n",
       "    </tr>\n",
       "    <tr>\n",
       "      <td>20</td>\n",
       "      <td>01M020</td>\n",
       "      <td>PS 020 ANNA SILVER</td>\n",
       "      <td>20112012</td>\n",
       "      <td>NaN</td>\n",
       "      <td>92.5</td>\n",
       "      <td>626</td>\n",
       "      <td>52</td>\n",
       "      <td>102</td>\n",
       "      <td>121</td>\n",
       "      <td>87</td>\n",
       "      <td>...</td>\n",
       "      <td>55</td>\n",
       "      <td>8.8</td>\n",
       "      <td>357</td>\n",
       "      <td>57.0</td>\n",
       "      <td>16</td>\n",
       "      <td>2.6</td>\n",
       "      <td>330.0</td>\n",
       "      <td>52.7</td>\n",
       "      <td>296.0</td>\n",
       "      <td>47.3</td>\n",
       "    </tr>\n",
       "  </tbody>\n",
       "</table>\n",
       "<p>3 rows × 38 columns</p>\n",
       "</div>"
      ],
      "text/plain": [
       "       DBN                                              Name  schoolyear  \\\n",
       "6   01M015  P.S. 015 ROBERTO CLEMENTE                           20112012   \n",
       "13  01M019  P.S. 019 ASHER LEVY                                 20112012   \n",
       "20  01M020  PS 020 ANNA SILVER                                  20112012   \n",
       "\n",
       "   fl_percent  frl_percent  total_enrollment prek    k grade1 grade2  ...  \\\n",
       "6         NaN         89.4               189   13   31     35     28  ...   \n",
       "13        NaN         61.5               328   32   46     52     54  ...   \n",
       "20        NaN         92.5               626   52  102    121     87  ...   \n",
       "\n",
       "   black_num black_per hispanic_num hispanic_per white_num white_per male_num  \\\n",
       "6         63      33.3          109         57.7         4       2.1     97.0   \n",
       "13        81      24.7          158         48.2        28       8.5    147.0   \n",
       "20        55       8.8          357         57.0        16       2.6    330.0   \n",
       "\n",
       "   male_per female_num female_per  \n",
       "6      51.3       92.0       48.7  \n",
       "13     44.8      181.0       55.2  \n",
       "20     52.7      296.0       47.3  \n",
       "\n",
       "[3 rows x 38 columns]"
      ]
     },
     "execution_count": 29,
     "metadata": {},
     "output_type": "execute_result"
    }
   ],
   "source": [
    "data[\"demographics\"] = data[\"demographics\"][data[\"demographics\"][\"schoolyear\"] == 20112012]\n",
    "data[\"demographics\"].head(3)"
   ]
  },
  {
   "cell_type": "markdown",
   "metadata": {},
   "source": [
    "Now that there is only one data entry for every school in the demographics dataset, I will begin looking at the graduation dataset and try to limit the number of data entries in that as well."
   ]
  },
  {
   "cell_type": "code",
   "execution_count": 30,
   "metadata": {},
   "outputs": [
    {
     "data": {
      "text/html": [
       "<div>\n",
       "<style scoped>\n",
       "    .dataframe tbody tr th:only-of-type {\n",
       "        vertical-align: middle;\n",
       "    }\n",
       "\n",
       "    .dataframe tbody tr th {\n",
       "        vertical-align: top;\n",
       "    }\n",
       "\n",
       "    .dataframe thead th {\n",
       "        text-align: right;\n",
       "    }\n",
       "</style>\n",
       "<table border=\"1\" class=\"dataframe\">\n",
       "  <thead>\n",
       "    <tr style=\"text-align: right;\">\n",
       "      <th></th>\n",
       "      <th>Demographic</th>\n",
       "      <th>DBN</th>\n",
       "      <th>School Name</th>\n",
       "      <th>Cohort</th>\n",
       "      <th>Total Cohort</th>\n",
       "      <th>Total Grads - n</th>\n",
       "      <th>Total Grads - % of cohort</th>\n",
       "      <th>Total Regents - n</th>\n",
       "      <th>Total Regents - % of cohort</th>\n",
       "      <th>Total Regents - % of grads</th>\n",
       "      <th>...</th>\n",
       "      <th>Regents w/o Advanced - n</th>\n",
       "      <th>Regents w/o Advanced - % of cohort</th>\n",
       "      <th>Regents w/o Advanced - % of grads</th>\n",
       "      <th>Local - n</th>\n",
       "      <th>Local - % of cohort</th>\n",
       "      <th>Local - % of grads</th>\n",
       "      <th>Still Enrolled - n</th>\n",
       "      <th>Still Enrolled - % of cohort</th>\n",
       "      <th>Dropped Out - n</th>\n",
       "      <th>Dropped Out - % of cohort</th>\n",
       "    </tr>\n",
       "  </thead>\n",
       "  <tbody>\n",
       "    <tr>\n",
       "      <td>0</td>\n",
       "      <td>Total Cohort</td>\n",
       "      <td>01M292</td>\n",
       "      <td>HENRY STREET SCHOOL FOR INTERNATIONAL</td>\n",
       "      <td>2003</td>\n",
       "      <td>5</td>\n",
       "      <td>s</td>\n",
       "      <td>NaN</td>\n",
       "      <td>s</td>\n",
       "      <td>NaN</td>\n",
       "      <td>NaN</td>\n",
       "      <td>...</td>\n",
       "      <td>s</td>\n",
       "      <td>NaN</td>\n",
       "      <td>NaN</td>\n",
       "      <td>s</td>\n",
       "      <td>NaN</td>\n",
       "      <td>NaN</td>\n",
       "      <td>s</td>\n",
       "      <td>NaN</td>\n",
       "      <td>s</td>\n",
       "      <td>NaN</td>\n",
       "    </tr>\n",
       "    <tr>\n",
       "      <td>1</td>\n",
       "      <td>Total Cohort</td>\n",
       "      <td>01M292</td>\n",
       "      <td>HENRY STREET SCHOOL FOR INTERNATIONAL</td>\n",
       "      <td>2004</td>\n",
       "      <td>55</td>\n",
       "      <td>37</td>\n",
       "      <td>67.3</td>\n",
       "      <td>17</td>\n",
       "      <td>30.9</td>\n",
       "      <td>45.9</td>\n",
       "      <td>...</td>\n",
       "      <td>17</td>\n",
       "      <td>30.9</td>\n",
       "      <td>45.9</td>\n",
       "      <td>20</td>\n",
       "      <td>36.4</td>\n",
       "      <td>54.1</td>\n",
       "      <td>15</td>\n",
       "      <td>27.3</td>\n",
       "      <td>3</td>\n",
       "      <td>5.5</td>\n",
       "    </tr>\n",
       "    <tr>\n",
       "      <td>2</td>\n",
       "      <td>Total Cohort</td>\n",
       "      <td>01M292</td>\n",
       "      <td>HENRY STREET SCHOOL FOR INTERNATIONAL</td>\n",
       "      <td>2005</td>\n",
       "      <td>64</td>\n",
       "      <td>43</td>\n",
       "      <td>67.2</td>\n",
       "      <td>27</td>\n",
       "      <td>42.2</td>\n",
       "      <td>62.8</td>\n",
       "      <td>...</td>\n",
       "      <td>27</td>\n",
       "      <td>42.2</td>\n",
       "      <td>62.8</td>\n",
       "      <td>16</td>\n",
       "      <td>25.0</td>\n",
       "      <td>37.2</td>\n",
       "      <td>9</td>\n",
       "      <td>14.1</td>\n",
       "      <td>9</td>\n",
       "      <td>14.1</td>\n",
       "    </tr>\n",
       "  </tbody>\n",
       "</table>\n",
       "<p>3 rows × 23 columns</p>\n",
       "</div>"
      ],
      "text/plain": [
       "    Demographic     DBN                            School Name Cohort  \\\n",
       "0  Total Cohort  01M292  HENRY STREET SCHOOL FOR INTERNATIONAL   2003   \n",
       "1  Total Cohort  01M292  HENRY STREET SCHOOL FOR INTERNATIONAL   2004   \n",
       "2  Total Cohort  01M292  HENRY STREET SCHOOL FOR INTERNATIONAL   2005   \n",
       "\n",
       "   Total Cohort Total Grads - n  Total Grads - % of cohort Total Regents - n  \\\n",
       "0             5               s                        NaN                 s   \n",
       "1            55              37                       67.3                17   \n",
       "2            64              43                       67.2                27   \n",
       "\n",
       "   Total Regents - % of cohort  Total Regents - % of grads  ...  \\\n",
       "0                          NaN                         NaN  ...   \n",
       "1                         30.9                        45.9  ...   \n",
       "2                         42.2                        62.8  ...   \n",
       "\n",
       "  Regents w/o Advanced - n  Regents w/o Advanced - % of cohort  \\\n",
       "0                        s                                 NaN   \n",
       "1                       17                                30.9   \n",
       "2                       27                                42.2   \n",
       "\n",
       "   Regents w/o Advanced - % of grads Local - n  Local - % of cohort  \\\n",
       "0                                NaN         s                  NaN   \n",
       "1                               45.9        20                 36.4   \n",
       "2                               62.8        16                 25.0   \n",
       "\n",
       "   Local - % of grads Still Enrolled - n  Still Enrolled - % of cohort  \\\n",
       "0                 NaN                  s                           NaN   \n",
       "1                54.1                 15                          27.3   \n",
       "2                37.2                  9                          14.1   \n",
       "\n",
       "   Dropped Out - n Dropped Out - % of cohort  \n",
       "0                s                       NaN  \n",
       "1                3                       5.5  \n",
       "2                9                      14.1  \n",
       "\n",
       "[3 rows x 23 columns]"
      ]
     },
     "execution_count": 30,
     "metadata": {},
     "output_type": "execute_result"
    }
   ],
   "source": [
    "graduation_before = data[\"graduation\"].shape\n",
    "data[\"graduation\"].head(3)"
   ]
  },
  {
   "cell_type": "markdown",
   "metadata": {},
   "source": [
    "In a similar manner to the demographics dataset, the graduation dataset has a data entry for every academic year, which is denoted in the Cohort column. Thus, I can reduce the number of entries in the dataset by only selecting data entries from the most recent graduation year."
   ]
  },
  {
   "cell_type": "code",
   "execution_count": 31,
   "metadata": {},
   "outputs": [
    {
     "data": {
      "text/plain": [
       "2006 Aug    4131\n",
       "2006        4130\n",
       "2005        3963\n",
       "2004        3708\n",
       "2003        3432\n",
       "2002        3095\n",
       "2001        2637\n",
       "Name: Cohort, dtype: int64"
      ]
     },
     "execution_count": 31,
     "metadata": {},
     "output_type": "execute_result"
    }
   ],
   "source": [
    "data[\"graduation\"][\"Cohort\"].value_counts()"
   ]
  },
  {
   "cell_type": "markdown",
   "metadata": {},
   "source": [
    "I will only select data from the most recent graduation year, which is 2006. I will ignore the data entry containing data collected on 2006 Aug as it is likely very similar to the data collected in 2006 (note that August is the start of the academic year and that 2006 Aug has only one more data entry than 2006 does)."
   ]
  },
  {
   "cell_type": "code",
   "execution_count": 32,
   "metadata": {},
   "outputs": [],
   "source": [
    "data[\"graduation\"] = data[\"graduation\"][data[\"graduation\"][\"Cohort\"] == \"2006\"]"
   ]
  },
  {
   "cell_type": "markdown",
   "metadata": {},
   "source": [
    "Next, I will take a look at the various possible values in the Demographic column to see if I can make a selection that will reduce the number of data entries in some manner."
   ]
  },
  {
   "cell_type": "code",
   "execution_count": 33,
   "metadata": {
    "scrolled": true
   },
   "outputs": [
    {
     "data": {
      "text/plain": [
       "Special Education Students     411\n",
       "General Education Students     405\n",
       "Total Cohort                   405\n",
       "English Proficient Students    401\n",
       "Female                         396\n",
       "Hispanic                       395\n",
       "Male                           395\n",
       "Black                          394\n",
       "English Language Learners      340\n",
       "Asian                          296\n",
       "White                          292\n",
       "Name: Demographic, dtype: int64"
      ]
     },
     "execution_count": 33,
     "metadata": {},
     "output_type": "execute_result"
    }
   ],
   "source": [
    "data[\"graduation\"][\"Demographic\"].value_counts()"
   ]
  },
  {
   "cell_type": "markdown",
   "metadata": {},
   "source": [
    "I will select only values of the Demographic column that equal \"Total Cohort\" as these data entries contain statistical information from a population that consists of every type of person at the school. Although they have a separate data entry for all the different demographic categories, I want to focus my study on all high school students, so I will select from the entire student population."
   ]
  },
  {
   "cell_type": "code",
   "execution_count": 34,
   "metadata": {},
   "outputs": [],
   "source": [
    "data[\"graduation\"] = data[\"graduation\"][data[\"graduation\"][\"Demographic\"] == \"Total Cohort\"]"
   ]
  },
  {
   "cell_type": "markdown",
   "metadata": {},
   "source": [
    "Finally, I will take a look at the shape of the three datasets (class_size, demographics, and graduation) before and after I reduced the number of data entries so that I can see how significantly the datasets have changed."
   ]
  },
  {
   "cell_type": "code",
   "execution_count": 35,
   "metadata": {},
   "outputs": [
    {
     "name": "stdout",
     "output_type": "stream",
     "text": [
      "The class_size dataset has been reduced from 27611 rows to 583 rows.\n",
      "The demographics dataset has been reduced from 10075 rows to 1509 rows.\n",
      "The graduation dataset has been reduced from 25096 rows to 405 rows.\n"
     ]
    }
   ],
   "source": [
    "class_size_after = data[\"class_size\"].shape[0]\n",
    "demographics_after = data[\"demographics\"].shape[0]\n",
    "graduation_after = data[\"graduation\"].shape[0]\n",
    "\n",
    "\n",
    "print(\"The class_size dataset has been reduced from {0} rows to {1} rows.\".format(class_size_before[0], class_size_after))\n",
    "print(\"The demographics dataset has been reduced from {0} rows to {1} rows.\".format(demographics_before[0], demographics_after))\n",
    "print(\"The graduation dataset has been reduced from {0} rows to {1} rows.\".format(graduation_before[0], graduation_after))\n"
   ]
  },
  {
   "cell_type": "markdown",
   "metadata": {},
   "source": [
    "All three datasets, especially class_size and graduation, have been significantly reduced in size by the data cleaning steps I applied. After I complete a few more tasks in the next section, the datasets will be ready to be combined into a single dataset."
   ]
  },
  {
   "cell_type": "markdown",
   "metadata": {},
   "source": [
    "# Combining the Datasets\n",
    "\n",
    "Now that all of the datasets have been cleaned individually, I will take a look at the column names of all seven datasets in order to get a good idea of which column to merge the datasets on."
   ]
  },
  {
   "cell_type": "code",
   "execution_count": 36,
   "metadata": {},
   "outputs": [
    {
     "data": {
      "text/plain": [
       "dict_keys(['ap_2010', 'class_size', 'demographics', 'graduation', 'hs_directory', 'sat_results', 'survey'])"
      ]
     },
     "execution_count": 36,
     "metadata": {},
     "output_type": "execute_result"
    }
   ],
   "source": [
    "data.keys()"
   ]
  },
  {
   "cell_type": "code",
   "execution_count": 37,
   "metadata": {},
   "outputs": [
    {
     "data": {
      "text/plain": [
       "Index(['DBN', 'SchoolName', 'AP Test Takers ', 'Total Exams Taken',\n",
       "       'Number of Exams with scores 3 4 or 5'],\n",
       "      dtype='object')"
      ]
     },
     "execution_count": 37,
     "metadata": {},
     "output_type": "execute_result"
    }
   ],
   "source": [
    "data[\"ap_2010\"].columns"
   ]
  },
  {
   "cell_type": "code",
   "execution_count": 38,
   "metadata": {},
   "outputs": [
    {
     "data": {
      "text/plain": [
       "Index(['DBN', 'NUMBER OF STUDENTS / SEATS FILLED', 'NUMBER OF SECTIONS',\n",
       "       'AVERAGE CLASS SIZE', 'SIZE OF SMALLEST CLASS', 'SIZE OF LARGEST CLASS',\n",
       "       'SCHOOLWIDE PUPIL-TEACHER RATIO'],\n",
       "      dtype='object')"
      ]
     },
     "execution_count": 38,
     "metadata": {},
     "output_type": "execute_result"
    }
   ],
   "source": [
    "data[\"class_size\"].columns"
   ]
  },
  {
   "cell_type": "code",
   "execution_count": 39,
   "metadata": {},
   "outputs": [
    {
     "data": {
      "text/plain": [
       "Index(['DBN', 'Name', 'schoolyear', 'fl_percent', 'frl_percent',\n",
       "       'total_enrollment', 'prek', 'k', 'grade1', 'grade2', 'grade3', 'grade4',\n",
       "       'grade5', 'grade6', 'grade7', 'grade8', 'grade9', 'grade10', 'grade11',\n",
       "       'grade12', 'ell_num', 'ell_percent', 'sped_num', 'sped_percent',\n",
       "       'ctt_num', 'selfcontained_num', 'asian_num', 'asian_per', 'black_num',\n",
       "       'black_per', 'hispanic_num', 'hispanic_per', 'white_num', 'white_per',\n",
       "       'male_num', 'male_per', 'female_num', 'female_per'],\n",
       "      dtype='object')"
      ]
     },
     "execution_count": 39,
     "metadata": {},
     "output_type": "execute_result"
    }
   ],
   "source": [
    "data[\"demographics\"].columns"
   ]
  },
  {
   "cell_type": "code",
   "execution_count": 40,
   "metadata": {},
   "outputs": [
    {
     "data": {
      "text/plain": [
       "Index(['Demographic', 'DBN', 'School Name', 'Cohort', 'Total Cohort',\n",
       "       'Total Grads - n', 'Total Grads - % of cohort', 'Total Regents - n',\n",
       "       'Total Regents - % of cohort', 'Total Regents - % of grads',\n",
       "       'Advanced Regents - n', 'Advanced Regents - % of cohort',\n",
       "       'Advanced Regents - % of grads', 'Regents w/o Advanced - n',\n",
       "       'Regents w/o Advanced - % of cohort',\n",
       "       'Regents w/o Advanced - % of grads', 'Local - n', 'Local - % of cohort',\n",
       "       'Local - % of grads', 'Still Enrolled - n',\n",
       "       'Still Enrolled - % of cohort', 'Dropped Out - n',\n",
       "       'Dropped Out - % of cohort'],\n",
       "      dtype='object')"
      ]
     },
     "execution_count": 40,
     "metadata": {},
     "output_type": "execute_result"
    }
   ],
   "source": [
    "data[\"graduation\"].columns"
   ]
  },
  {
   "cell_type": "code",
   "execution_count": 41,
   "metadata": {},
   "outputs": [
    {
     "data": {
      "text/plain": [
       "Index(['DBN', 'school_name', 'boro', 'building_code', 'phone_number',\n",
       "       'fax_number', 'grade_span_min', 'grade_span_max', 'expgrade_span_min',\n",
       "       'expgrade_span_max', 'bus', 'subway', 'primary_address_line_1', 'city',\n",
       "       'state_code', 'zip', 'website', 'total_students', 'campus_name',\n",
       "       'school_type', 'overview_paragraph', 'program_highlights',\n",
       "       'language_classes', 'advancedplacement_courses', 'online_ap_courses',\n",
       "       'online_language_courses', 'extracurricular_activities',\n",
       "       'psal_sports_boys', 'psal_sports_girls', 'psal_sports_coed',\n",
       "       'school_sports', 'partner_cbo', 'partner_hospital', 'partner_highered',\n",
       "       'partner_cultural', 'partner_nonprofit', 'partner_corporate',\n",
       "       'partner_financial', 'partner_other', 'addtl_info1', 'addtl_info2',\n",
       "       'start_time', 'end_time', 'se_services', 'ell_programs',\n",
       "       'school_accessibility_description', 'number_programs', 'priority01',\n",
       "       'priority02', 'priority03', 'priority04', 'priority05', 'priority06',\n",
       "       'priority07', 'priority08', 'priority09', 'priority10', 'Location 1',\n",
       "       'lat', 'lon'],\n",
       "      dtype='object')"
      ]
     },
     "execution_count": 41,
     "metadata": {},
     "output_type": "execute_result"
    }
   ],
   "source": [
    "data[\"hs_directory\"].columns"
   ]
  },
  {
   "cell_type": "code",
   "execution_count": 42,
   "metadata": {},
   "outputs": [
    {
     "data": {
      "text/plain": [
       "Index(['DBN', 'SCHOOL NAME', 'Num of SAT Test Takers',\n",
       "       'SAT Critical Reading Avg. Score', 'SAT Math Avg. Score',\n",
       "       'SAT Writing Avg. Score', 'sat_score'],\n",
       "      dtype='object')"
      ]
     },
     "execution_count": 42,
     "metadata": {},
     "output_type": "execute_result"
    }
   ],
   "source": [
    "data[\"sat_results\"].columns"
   ]
  },
  {
   "cell_type": "code",
   "execution_count": 43,
   "metadata": {},
   "outputs": [
    {
     "data": {
      "text/plain": [
       "Index(['DBN', 'rr_s', 'rr_t', 'rr_p', 'N_s', 'N_t', 'N_p', 'saf_p_11',\n",
       "       'com_p_11', 'eng_p_11', 'aca_p_11', 'saf_t_11', 'com_t_11', 'eng_t_11',\n",
       "       'aca_t_11', 'saf_s_11', 'com_s_11', 'eng_s_11', 'aca_s_11',\n",
       "       'saf_tot_11', 'com_tot_11', 'eng_tot_11', 'aca_tot_11'],\n",
       "      dtype='object')"
      ]
     },
     "execution_count": 43,
     "metadata": {},
     "output_type": "execute_result"
    }
   ],
   "source": [
    "data[\"survey\"].columns"
   ]
  },
  {
   "cell_type": "markdown",
   "metadata": {},
   "source": [
    "Note that all of seven of the datasets have a DBN column, so I will merge the datasets on that column. I will set my combined dataset to sat_results and then merge it with the following datasets as so:\n",
    "- Left Merge = used for the ap\\_2010 and graduation datasets\n",
    "- Inner Merge = used for the class\\_size, demographics, survey, and hs\\_directory datasets\n",
    "\\end{itemize}"
   ]
  },
  {
   "cell_type": "code",
   "execution_count": 44,
   "metadata": {},
   "outputs": [],
   "source": [
    "combined = data[\"sat_results\"]\n",
    "combined = combined.merge(data[\"ap_2010\"], how=\"left\", on=\"DBN\")\n",
    "combined = combined.merge(data[\"graduation\"], how=\"left\", on=\"DBN\")"
   ]
  },
  {
   "cell_type": "code",
   "execution_count": 45,
   "metadata": {
    "scrolled": true
   },
   "outputs": [
    {
     "data": {
      "text/plain": [
       "Index(['DBN', 'SCHOOL NAME', 'Num of SAT Test Takers',\n",
       "       'SAT Critical Reading Avg. Score', 'SAT Math Avg. Score',\n",
       "       'SAT Writing Avg. Score', 'sat_score', 'SchoolName', 'AP Test Takers ',\n",
       "       'Total Exams Taken',\n",
       "       ...\n",
       "       'priority04', 'priority05', 'priority06', 'priority07', 'priority08',\n",
       "       'priority09', 'priority10', 'Location 1', 'lat', 'lon'],\n",
       "      dtype='object', length=157)"
      ]
     },
     "execution_count": 45,
     "metadata": {},
     "output_type": "execute_result"
    }
   ],
   "source": [
    "to_merge = [\"class_size\", \"demographics\", \"survey\", \"hs_directory\"]\n",
    "\n",
    "for m in to_merge:\n",
    "    combined = combined.merge(data[m], on=\"DBN\", how=\"inner\")\n",
    "    \n",
    "combined.columns"
   ]
  },
  {
   "cell_type": "markdown",
   "metadata": {},
   "source": [
    "Even though the datasets are merged, note that there are 157 columns. Before I begin my analysis, I will need to get rid of most of the columns."
   ]
  },
  {
   "cell_type": "markdown",
   "metadata": {},
   "source": [
    "# Data Cleaning Post-Merge\n",
    "\n",
    "Even though the datasets have been merged, there are a few modifications to the dataset that will need to be completed before it is ready for analysis:\n",
    "- Create a district column by by selecting the first two digits from the DBN column\n",
    "- Select and reorder the columns that will be useful to my analysis\n",
    "- Rename some of the columns so that they all fit the same naming convention\n",
    "- Replace all NaN values within a column with the column mean to prevent bugs\n",
    "- Change the number types of the values in certain columns\n",
    "- Save the new cleaned, combined dataset to a csv file\n",
    "\n",
    "First, I will create a function that will select the first to digits of a string. I will apply this function to the DBN column in order to create a new District column. This column will be useful if I decide to analyze by district in Part 2 of this project."
   ]
  },
  {
   "cell_type": "code",
   "execution_count": 46,
   "metadata": {},
   "outputs": [],
   "source": [
    "def first_two(string):\n",
    "    return string[:2]\n",
    "\n",
    "combined[\"District\"] = combined[\"DBN\"].apply(first_two)"
   ]
  },
  {
   "cell_type": "markdown",
   "metadata": {},
   "source": [
    "Next, I will select only the columns that will be useful for my analysis, which include those below. Note how I also rearranged the order of the columns to make it easier to read the tables."
   ]
  },
  {
   "cell_type": "code",
   "execution_count": 47,
   "metadata": {},
   "outputs": [],
   "source": [
    "useful_columns = [\"DBN\", \"District\", \"SCHOOL NAME\", \"sat_score\",\n",
    "                  \"Num of SAT Test Takers\", \"AP Test Takers \", \"Total Exams Taken\", \"total_enrollment\",\n",
    "                  \"AVERAGE CLASS SIZE\", \"male_per\", \"white_per\", \"black_per\",\n",
    "                  \"hispanic_per\", \"asian_per\", \"ell_percent\", \"saf_t_11\", \n",
    "                  \"saf_s_11\", \"lat\", \"lon\"]\n",
    "\n",
    "combined = combined[useful_columns]"
   ]
  },
  {
   "cell_type": "markdown",
   "metadata": {},
   "source": [
    "Next, I will rename most of the column names that remain so they follow the same naming convention:\n",
    "- Capitalization of the first letter in every word\n",
    "- Spaces (rather than underscores) to denote multiple words\n",
    "- Changing a few of the names to make them more easily understandable in a table format"
   ]
  },
  {
   "cell_type": "code",
   "execution_count": 48,
   "metadata": {
    "scrolled": true
   },
   "outputs": [
    {
     "data": {
      "text/html": [
       "<div>\n",
       "<style scoped>\n",
       "    .dataframe tbody tr th:only-of-type {\n",
       "        vertical-align: middle;\n",
       "    }\n",
       "\n",
       "    .dataframe tbody tr th {\n",
       "        vertical-align: top;\n",
       "    }\n",
       "\n",
       "    .dataframe thead th {\n",
       "        text-align: right;\n",
       "    }\n",
       "</style>\n",
       "<table border=\"1\" class=\"dataframe\">\n",
       "  <thead>\n",
       "    <tr style=\"text-align: right;\">\n",
       "      <th></th>\n",
       "      <th>DBN</th>\n",
       "      <th>District</th>\n",
       "      <th>School</th>\n",
       "      <th>SAT Score</th>\n",
       "      <th>SAT Test Takers</th>\n",
       "      <th>AP Test Takers</th>\n",
       "      <th>AP Tests Taken</th>\n",
       "      <th>Total Enrollment</th>\n",
       "      <th>Class Size</th>\n",
       "      <th>Percent Male</th>\n",
       "      <th>Percent White</th>\n",
       "      <th>Percent Black</th>\n",
       "      <th>Percent Hispanic</th>\n",
       "      <th>Percent Asian</th>\n",
       "      <th>Percent ELL</th>\n",
       "      <th>Teacher Safety</th>\n",
       "      <th>Student Safety</th>\n",
       "      <th>Lat</th>\n",
       "      <th>Lon</th>\n",
       "    </tr>\n",
       "  </thead>\n",
       "  <tbody>\n",
       "    <tr>\n",
       "      <td>0</td>\n",
       "      <td>01M292</td>\n",
       "      <td>01</td>\n",
       "      <td>HENRY STREET SCHOOL FOR INTERNATIONAL STUDIES</td>\n",
       "      <td>1122.0</td>\n",
       "      <td>29</td>\n",
       "      <td>NaN</td>\n",
       "      <td>NaN</td>\n",
       "      <td>422</td>\n",
       "      <td>22.564286</td>\n",
       "      <td>61.4</td>\n",
       "      <td>1.7</td>\n",
       "      <td>29.1</td>\n",
       "      <td>53.8</td>\n",
       "      <td>14.0</td>\n",
       "      <td>22.3</td>\n",
       "      <td>6.3</td>\n",
       "      <td>6.0</td>\n",
       "      <td>40.7138</td>\n",
       "      <td>-73.9853</td>\n",
       "    </tr>\n",
       "    <tr>\n",
       "      <td>1</td>\n",
       "      <td>01M448</td>\n",
       "      <td>01</td>\n",
       "      <td>UNIVERSITY NEIGHBORHOOD HIGH SCHOOL</td>\n",
       "      <td>1172.0</td>\n",
       "      <td>91</td>\n",
       "      <td>39.0</td>\n",
       "      <td>49.0</td>\n",
       "      <td>394</td>\n",
       "      <td>22.231250</td>\n",
       "      <td>57.4</td>\n",
       "      <td>2.3</td>\n",
       "      <td>22.6</td>\n",
       "      <td>45.9</td>\n",
       "      <td>29.2</td>\n",
       "      <td>21.1</td>\n",
       "      <td>6.6</td>\n",
       "      <td>6.0</td>\n",
       "      <td>40.7123</td>\n",
       "      <td>-73.9848</td>\n",
       "    </tr>\n",
       "    <tr>\n",
       "      <td>2</td>\n",
       "      <td>01M450</td>\n",
       "      <td>01</td>\n",
       "      <td>EAST SIDE COMMUNITY SCHOOL</td>\n",
       "      <td>1149.0</td>\n",
       "      <td>70</td>\n",
       "      <td>19.0</td>\n",
       "      <td>21.0</td>\n",
       "      <td>598</td>\n",
       "      <td>21.200000</td>\n",
       "      <td>54.7</td>\n",
       "      <td>10.4</td>\n",
       "      <td>23.9</td>\n",
       "      <td>55.4</td>\n",
       "      <td>9.7</td>\n",
       "      <td>5.0</td>\n",
       "      <td>7.3</td>\n",
       "      <td>NaN</td>\n",
       "      <td>40.7298</td>\n",
       "      <td>-73.9830</td>\n",
       "    </tr>\n",
       "  </tbody>\n",
       "</table>\n",
       "</div>"
      ],
      "text/plain": [
       "      DBN District                                         School  SAT Score  \\\n",
       "0  01M292       01  HENRY STREET SCHOOL FOR INTERNATIONAL STUDIES     1122.0   \n",
       "1  01M448       01            UNIVERSITY NEIGHBORHOOD HIGH SCHOOL     1172.0   \n",
       "2  01M450       01                     EAST SIDE COMMUNITY SCHOOL     1149.0   \n",
       "\n",
       "  SAT Test Takers  AP Test Takers  AP Tests Taken  Total Enrollment  \\\n",
       "0              29             NaN             NaN               422   \n",
       "1              91            39.0            49.0               394   \n",
       "2              70            19.0            21.0               598   \n",
       "\n",
       "   Class Size  Percent Male  Percent White  Percent Black  Percent Hispanic  \\\n",
       "0   22.564286          61.4            1.7           29.1              53.8   \n",
       "1   22.231250          57.4            2.3           22.6              45.9   \n",
       "2   21.200000          54.7           10.4           23.9              55.4   \n",
       "\n",
       "   Percent Asian  Percent ELL  Teacher Safety  Student Safety      Lat  \\\n",
       "0           14.0         22.3             6.3             6.0  40.7138   \n",
       "1           29.2         21.1             6.6             6.0  40.7123   \n",
       "2            9.7          5.0             7.3             NaN  40.7298   \n",
       "\n",
       "       Lon  \n",
       "0 -73.9853  \n",
       "1 -73.9848  \n",
       "2 -73.9830  "
      ]
     },
     "execution_count": 48,
     "metadata": {},
     "output_type": "execute_result"
    }
   ],
   "source": [
    "column_names = {\n",
    "                \"SCHOOL NAME\": \"School\",\n",
    "                \"sat_score\": \"SAT Score\",\n",
    "                \"Num of SAT Test Takers\": \"SAT Test Takers\",\n",
    "                \"AP Test Takers \": \"AP Test Takers\",\n",
    "                \"Total Exams Taken\": \"AP Tests Taken\",\n",
    "                \"total_enrollment\": \"Total Enrollment\",\n",
    "                \"AVERAGE CLASS SIZE\": \"Class Size\",\n",
    "                \"male_per\": \"Percent Male\",\n",
    "                \"white_per\": \"Percent White\",\n",
    "                \"black_per\": \"Percent Black\",\n",
    "                \"asian_per\": \"Percent Asian\",\n",
    "                \"hispanic_per\": \"Percent Hispanic\",\n",
    "                \"ell_percent\": \"Percent ELL\",\n",
    "                \"saf_t_11\": \"Teacher Safety\",\n",
    "                \"saf_s_11\": \"Student Safety\",\n",
    "                \"lat\": \"Lat\",\n",
    "                \"lon\": \"Lon\"\n",
    "               }\n",
    "\n",
    "combined = combined.rename(columns=column_names)\n",
    "combined.head(3)"
   ]
  },
  {
   "cell_type": "markdown",
   "metadata": {},
   "source": [
    "Note that some of the columns have NaN values, which could later result in systematic errors if I decide to manipulate the values in each column. For example, in the next step, I am planning on rounding the values in the Class Size column to the nearest tenth's place. If there is a NaN value in one of the data entries for that column, it will result in an error since NaN is not a float. Therefore, I will replace all of the NaN values with the means for each of the columns. For example, if the mean AP Tests Taken is 55, I will replace all NaN values in the AP Tests Taken column with the number 55. If I can't calculate a mean for that column, I will replace the value with a zero."
   ]
  },
  {
   "cell_type": "code",
   "execution_count": 49,
   "metadata": {},
   "outputs": [
    {
     "data": {
      "text/html": [
       "<div>\n",
       "<style scoped>\n",
       "    .dataframe tbody tr th:only-of-type {\n",
       "        vertical-align: middle;\n",
       "    }\n",
       "\n",
       "    .dataframe tbody tr th {\n",
       "        vertical-align: top;\n",
       "    }\n",
       "\n",
       "    .dataframe thead th {\n",
       "        text-align: right;\n",
       "    }\n",
       "</style>\n",
       "<table border=\"1\" class=\"dataframe\">\n",
       "  <thead>\n",
       "    <tr style=\"text-align: right;\">\n",
       "      <th></th>\n",
       "      <th>DBN</th>\n",
       "      <th>District</th>\n",
       "      <th>School</th>\n",
       "      <th>SAT Score</th>\n",
       "      <th>SAT Test Takers</th>\n",
       "      <th>AP Test Takers</th>\n",
       "      <th>AP Tests Taken</th>\n",
       "      <th>Total Enrollment</th>\n",
       "      <th>Class Size</th>\n",
       "      <th>Percent Male</th>\n",
       "      <th>Percent White</th>\n",
       "      <th>Percent Black</th>\n",
       "      <th>Percent Hispanic</th>\n",
       "      <th>Percent Asian</th>\n",
       "      <th>Percent ELL</th>\n",
       "      <th>Teacher Safety</th>\n",
       "      <th>Student Safety</th>\n",
       "      <th>Lat</th>\n",
       "      <th>Lon</th>\n",
       "    </tr>\n",
       "  </thead>\n",
       "  <tbody>\n",
       "    <tr>\n",
       "      <td>0</td>\n",
       "      <td>01M292</td>\n",
       "      <td>01</td>\n",
       "      <td>HENRY STREET SCHOOL FOR INTERNATIONAL STUDIES</td>\n",
       "      <td>1122.0</td>\n",
       "      <td>29</td>\n",
       "      <td>129.028846</td>\n",
       "      <td>197.038462</td>\n",
       "      <td>422</td>\n",
       "      <td>22.564286</td>\n",
       "      <td>61.4</td>\n",
       "      <td>1.7</td>\n",
       "      <td>29.1</td>\n",
       "      <td>53.8</td>\n",
       "      <td>14.0</td>\n",
       "      <td>22.3</td>\n",
       "      <td>6.3</td>\n",
       "      <td>6.000000</td>\n",
       "      <td>40.7138</td>\n",
       "      <td>-73.9853</td>\n",
       "    </tr>\n",
       "    <tr>\n",
       "      <td>1</td>\n",
       "      <td>01M448</td>\n",
       "      <td>01</td>\n",
       "      <td>UNIVERSITY NEIGHBORHOOD HIGH SCHOOL</td>\n",
       "      <td>1172.0</td>\n",
       "      <td>91</td>\n",
       "      <td>39.000000</td>\n",
       "      <td>49.000000</td>\n",
       "      <td>394</td>\n",
       "      <td>22.231250</td>\n",
       "      <td>57.4</td>\n",
       "      <td>2.3</td>\n",
       "      <td>22.6</td>\n",
       "      <td>45.9</td>\n",
       "      <td>29.2</td>\n",
       "      <td>21.1</td>\n",
       "      <td>6.6</td>\n",
       "      <td>6.000000</td>\n",
       "      <td>40.7123</td>\n",
       "      <td>-73.9848</td>\n",
       "    </tr>\n",
       "    <tr>\n",
       "      <td>2</td>\n",
       "      <td>01M450</td>\n",
       "      <td>01</td>\n",
       "      <td>EAST SIDE COMMUNITY SCHOOL</td>\n",
       "      <td>1149.0</td>\n",
       "      <td>70</td>\n",
       "      <td>19.000000</td>\n",
       "      <td>21.000000</td>\n",
       "      <td>598</td>\n",
       "      <td>21.200000</td>\n",
       "      <td>54.7</td>\n",
       "      <td>10.4</td>\n",
       "      <td>23.9</td>\n",
       "      <td>55.4</td>\n",
       "      <td>9.7</td>\n",
       "      <td>5.0</td>\n",
       "      <td>7.3</td>\n",
       "      <td>6.611667</td>\n",
       "      <td>40.7298</td>\n",
       "      <td>-73.9830</td>\n",
       "    </tr>\n",
       "  </tbody>\n",
       "</table>\n",
       "</div>"
      ],
      "text/plain": [
       "      DBN District                                         School  SAT Score  \\\n",
       "0  01M292       01  HENRY STREET SCHOOL FOR INTERNATIONAL STUDIES     1122.0   \n",
       "1  01M448       01            UNIVERSITY NEIGHBORHOOD HIGH SCHOOL     1172.0   \n",
       "2  01M450       01                     EAST SIDE COMMUNITY SCHOOL     1149.0   \n",
       "\n",
       "  SAT Test Takers  AP Test Takers  AP Tests Taken  Total Enrollment  \\\n",
       "0              29      129.028846      197.038462               422   \n",
       "1              91       39.000000       49.000000               394   \n",
       "2              70       19.000000       21.000000               598   \n",
       "\n",
       "   Class Size  Percent Male  Percent White  Percent Black  Percent Hispanic  \\\n",
       "0   22.564286          61.4            1.7           29.1              53.8   \n",
       "1   22.231250          57.4            2.3           22.6              45.9   \n",
       "2   21.200000          54.7           10.4           23.9              55.4   \n",
       "\n",
       "   Percent Asian  Percent ELL  Teacher Safety  Student Safety      Lat  \\\n",
       "0           14.0         22.3             6.3        6.000000  40.7138   \n",
       "1           29.2         21.1             6.6        6.000000  40.7123   \n",
       "2            9.7          5.0             7.3        6.611667  40.7298   \n",
       "\n",
       "       Lon  \n",
       "0 -73.9853  \n",
       "1 -73.9848  \n",
       "2 -73.9830  "
      ]
     },
     "execution_count": 49,
     "metadata": {},
     "output_type": "execute_result"
    }
   ],
   "source": [
    "combined = combined.fillna(combined.mean())\n",
    "combined = combined.fillna(0)\n",
    "\n",
    "combined.head(3)"
   ]
  },
  {
   "cell_type": "markdown",
   "metadata": {},
   "source": [
    "The numeric values in the SAT Score, SAT Test Takers, and AP Tests Taken should all be integers, since the original values were integers and thus I must maintain the same levels of precision for all value. Similarly, the Class Size and the Student Safety column should be rounded to the tenth's column to match the rounding convention of all the other floats in the dataset. The Latitude and Longitude columns do not need to change as maintaining it's current level of precision will be necessary in order to map out the different locations in Part 2 of this project."
   ]
  },
  {
   "cell_type": "code",
   "execution_count": 50,
   "metadata": {
    "scrolled": true
   },
   "outputs": [
    {
     "data": {
      "text/html": [
       "<div>\n",
       "<style scoped>\n",
       "    .dataframe tbody tr th:only-of-type {\n",
       "        vertical-align: middle;\n",
       "    }\n",
       "\n",
       "    .dataframe tbody tr th {\n",
       "        vertical-align: top;\n",
       "    }\n",
       "\n",
       "    .dataframe thead th {\n",
       "        text-align: right;\n",
       "    }\n",
       "</style>\n",
       "<table border=\"1\" class=\"dataframe\">\n",
       "  <thead>\n",
       "    <tr style=\"text-align: right;\">\n",
       "      <th></th>\n",
       "      <th>DBN</th>\n",
       "      <th>District</th>\n",
       "      <th>School</th>\n",
       "      <th>SAT Score</th>\n",
       "      <th>SAT Test Takers</th>\n",
       "      <th>AP Test Takers</th>\n",
       "      <th>AP Tests Taken</th>\n",
       "      <th>Total Enrollment</th>\n",
       "      <th>Class Size</th>\n",
       "      <th>Percent Male</th>\n",
       "      <th>Percent White</th>\n",
       "      <th>Percent Black</th>\n",
       "      <th>Percent Hispanic</th>\n",
       "      <th>Percent Asian</th>\n",
       "      <th>Percent ELL</th>\n",
       "      <th>Teacher Safety</th>\n",
       "      <th>Student Safety</th>\n",
       "      <th>Lat</th>\n",
       "      <th>Lon</th>\n",
       "    </tr>\n",
       "  </thead>\n",
       "  <tbody>\n",
       "    <tr>\n",
       "      <td>0</td>\n",
       "      <td>01M292</td>\n",
       "      <td>01</td>\n",
       "      <td>HENRY STREET SCHOOL FOR INTERNATIONAL STUDIES</td>\n",
       "      <td>1122</td>\n",
       "      <td>29</td>\n",
       "      <td>129</td>\n",
       "      <td>197</td>\n",
       "      <td>422</td>\n",
       "      <td>22.6</td>\n",
       "      <td>61.4</td>\n",
       "      <td>1.7</td>\n",
       "      <td>29.1</td>\n",
       "      <td>53.8</td>\n",
       "      <td>14.0</td>\n",
       "      <td>22.3</td>\n",
       "      <td>6.3</td>\n",
       "      <td>6.0</td>\n",
       "      <td>40.7138</td>\n",
       "      <td>-73.9853</td>\n",
       "    </tr>\n",
       "    <tr>\n",
       "      <td>1</td>\n",
       "      <td>01M448</td>\n",
       "      <td>01</td>\n",
       "      <td>UNIVERSITY NEIGHBORHOOD HIGH SCHOOL</td>\n",
       "      <td>1172</td>\n",
       "      <td>91</td>\n",
       "      <td>39</td>\n",
       "      <td>49</td>\n",
       "      <td>394</td>\n",
       "      <td>22.2</td>\n",
       "      <td>57.4</td>\n",
       "      <td>2.3</td>\n",
       "      <td>22.6</td>\n",
       "      <td>45.9</td>\n",
       "      <td>29.2</td>\n",
       "      <td>21.1</td>\n",
       "      <td>6.6</td>\n",
       "      <td>6.0</td>\n",
       "      <td>40.7123</td>\n",
       "      <td>-73.9848</td>\n",
       "    </tr>\n",
       "    <tr>\n",
       "      <td>2</td>\n",
       "      <td>01M450</td>\n",
       "      <td>01</td>\n",
       "      <td>EAST SIDE COMMUNITY SCHOOL</td>\n",
       "      <td>1149</td>\n",
       "      <td>70</td>\n",
       "      <td>19</td>\n",
       "      <td>21</td>\n",
       "      <td>598</td>\n",
       "      <td>21.2</td>\n",
       "      <td>54.7</td>\n",
       "      <td>10.4</td>\n",
       "      <td>23.9</td>\n",
       "      <td>55.4</td>\n",
       "      <td>9.7</td>\n",
       "      <td>5.0</td>\n",
       "      <td>7.3</td>\n",
       "      <td>6.6</td>\n",
       "      <td>40.7298</td>\n",
       "      <td>-73.9830</td>\n",
       "    </tr>\n",
       "  </tbody>\n",
       "</table>\n",
       "</div>"
      ],
      "text/plain": [
       "      DBN District                                         School  SAT Score  \\\n",
       "0  01M292       01  HENRY STREET SCHOOL FOR INTERNATIONAL STUDIES       1122   \n",
       "1  01M448       01            UNIVERSITY NEIGHBORHOOD HIGH SCHOOL       1172   \n",
       "2  01M450       01                     EAST SIDE COMMUNITY SCHOOL       1149   \n",
       "\n",
       "  SAT Test Takers  AP Test Takers  AP Tests Taken  Total Enrollment  \\\n",
       "0              29             129             197               422   \n",
       "1              91              39              49               394   \n",
       "2              70              19              21               598   \n",
       "\n",
       "   Class Size  Percent Male  Percent White  Percent Black  Percent Hispanic  \\\n",
       "0        22.6          61.4            1.7           29.1              53.8   \n",
       "1        22.2          57.4            2.3           22.6              45.9   \n",
       "2        21.2          54.7           10.4           23.9              55.4   \n",
       "\n",
       "   Percent Asian  Percent ELL  Teacher Safety  Student Safety      Lat  \\\n",
       "0           14.0         22.3             6.3             6.0  40.7138   \n",
       "1           29.2         21.1             6.6             6.0  40.7123   \n",
       "2            9.7          5.0             7.3             6.6  40.7298   \n",
       "\n",
       "       Lon  \n",
       "0 -73.9853  \n",
       "1 -73.9848  \n",
       "2 -73.9830  "
      ]
     },
     "execution_count": 50,
     "metadata": {},
     "output_type": "execute_result"
    }
   ],
   "source": [
    "int_change = [\"SAT Score\", \"AP Test Takers\", \"AP Tests Taken\"]\n",
    "round_change = [\"Class Size\", \"Student Safety\"]\n",
    "\n",
    "combined[int_change] = combined[int_change].astype(int)\n",
    "combined[round_change] = combined[round_change].round(1)\n",
    "combined.head(3)"
   ]
  },
  {
   "cell_type": "markdown",
   "metadata": {},
   "source": [
    "Now that the data cleaning section of this project is complete, I will save the new dataset to a new CSV file so that it can be easily referenced in Part 2, which is the analysis portion of the project."
   ]
  },
  {
   "cell_type": "code",
   "execution_count": 51,
   "metadata": {},
   "outputs": [],
   "source": [
    "combined.to_csv('combined.csv', index=False)"
   ]
  }
 ],
 "metadata": {
  "kernelspec": {
   "display_name": "Python 3",
   "language": "python",
   "name": "python3"
  },
  "language_info": {
   "codemirror_mode": {
    "name": "ipython",
    "version": 3
   },
   "file_extension": ".py",
   "mimetype": "text/x-python",
   "name": "python",
   "nbconvert_exporter": "python",
   "pygments_lexer": "ipython3",
   "version": "3.7.4"
  }
 },
 "nbformat": 4,
 "nbformat_minor": 2
}
